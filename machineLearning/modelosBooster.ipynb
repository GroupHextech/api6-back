{
 "cells": [
  {
   "cell_type": "code",
   "execution_count": null,
   "metadata": {},
   "outputs": [],
   "source": [
    "import re\n",
    "import string\n",
    "import unicodedata\n",
    "import numpy as np\n",
    "import pandas as pd\n",
    "import nltk\n",
    "from nltk.tokenize import word_tokenize\n",
    "from nltk.corpus import stopwords\n",
    "from nltk.stem import WordNetLemmatizer\n",
    "from sklearn.ensemble import AdaBoostClassifier\n",
    "from sklearn.model_selection import train_test_split\n",
    "from sklearn.feature_extraction.text import CountVectorizer\n",
    "from sklearn.naive_bayes import MultinomialNB\n",
    "from sklearn.metrics import confusion_matrix\n",
    "import matplotlib.pyplot as plt\n",
    "import seaborn as sns\n",
    "import pickle\n",
    "from joblib import dump\n",
    "from tabulate import tabulate\n",
    "import xgboost as xgb\n",
    "from catboost import CatBoostClassifier\n",
    "\n",
    "\n",
    "# Baixa recursos necessários do NLTK\n",
    "nltk.download('stopwords')\n",
    "nltk.download('punkt')\n",
    "nltk.download('wordnet')"
   ]
  },
  {
   "cell_type": "code",
   "execution_count": null,
   "metadata": {},
   "outputs": [],
   "source": [
    "# Carrega o conjunto de dados\n",
    "dataset = pd.read_csv(\"C:\\\\fatec\\\\B2W-Reviews01\\\\B2W-Reviews01.csv\")\n",
    "\n",
    "# Mostra o tamanho do dataset original\n",
    "print(\"Tamanho do dataset original:\", dataset.shape[0], \"\\n\")\n",
    "\n",
    "# Remove linhas com valores em branco\n",
    "dataset = dataset.dropna(subset=['review_text', 'overall_rating'])\n",
    "\n",
    "# Mostra o tamanho do dataset alterado\n",
    "print(\"Tamanho do dataset alterado:\", dataset.shape[0], \"\\n\")"
   ]
  },
  {
   "cell_type": "code",
   "execution_count": null,
   "metadata": {},
   "outputs": [],
   "source": [
    "# Cria uma nova coluna para classificar entre comentários positivos, negativos ou neutros com base na nota:\n",
    "dataset['feeling'] = np.where(dataset['overall_rating'] < 3, 'Negative', np.where(dataset['overall_rating'] == 3, 'Neutral', 'Positive'))\n",
    "\n",
    "# Mostra os primeiros registros do dataset\n",
    "print(\"Primeiros registros do dataset:\")\n",
    "print(tabulate(dataset.head(20), headers='keys', tablefmt='pipe'))"
   ]
  },
  {
   "cell_type": "code",
   "execution_count": null,
   "metadata": {},
   "outputs": [],
   "source": [
    "# Pré-processamento dos dados\n",
    "lemmatizer = WordNetLemmatizer()\n",
    "stop_words = set(stopwords.words('portuguese'))\n",
    "\n",
    "preprocessed_texts = []  # Lista para armazenar os textos pré-processados\n",
    "\n",
    "# Itera sobre cada texto no dataset para pré-processamento\n",
    "for text in dataset['review_text']:\n",
    "    if isinstance(text, str):  # Verifica se o texto é uma string\n",
    "        # Converter para minúsculas\n",
    "        text = text.lower()\n",
    "        # Remover acentos\n",
    "        text = ''.join(char for char in unicodedata.normalize('NFKD', text) if unicodedata.category(char) != 'Mn')\n",
    "        # Remover números usando expressão regular\n",
    "        text = re.sub(r'\\d+', '', text)\n",
    "        # Remover caracteres especiais (incluindo emojis)\n",
    "        text = re.sub(r'[^\\w\\s]', '', text)\n",
    "        # Remover pontuação\n",
    "        text = text.translate(str.maketrans('', '', string.punctuation))\n",
    "        # Remover espaços extras\n",
    "        text = re.sub(r'\\s+', ' ', text).strip()\n",
    "        # Tokenização\n",
    "        tokens = word_tokenize(text)\n",
    "        # Lematização e remoção de stopwords\n",
    "        tokens = [lemmatizer.lemmatize(word) for word in tokens if word.isalpha() and word.lower() not in stop_words]\n",
    "        # Juntar tokens em texto novamente\n",
    "        preprocessed_text = ' '.join(tokens)\n",
    "        preprocessed_texts.append(preprocessed_text)  # Adicionar texto pré-processado à lista\n",
    "    else:\n",
    "        preprocessed_texts.append(\"\")\n",
    "\n",
    "# Atualiza o DataFrame com os textos pré-processados\n",
    "dataset['review_text'] = preprocessed_texts\n",
    "\n",
    "# Mostra o dataset após o pré-processamento\n",
    "print(\"\\nDataset após pré-processamento:\")\n",
    "print(tabulate(dataset.head(20), headers='keys', tablefmt='pipe'))\n"
   ]
  },
  {
   "cell_type": "code",
   "execution_count": null,
   "metadata": {},
   "outputs": [],
   "source": [
    "# Separar os dados em features (X) e target (Y)\n",
    "X = dataset['review_text'].values\n",
    "Y = dataset['feeling'].values\n",
    "\n",
    "# Dividir os dados em conjunto de treinamento e teste\n",
    "X_train, X_test, Y_train, Y_test = train_test_split(X, Y, test_size=0.2, random_state=42)"
   ]
  }
 ],
 "metadata": {
  "kernelspec": {
   "display_name": ".myenv",
   "language": "python",
   "name": "python3"
  },
  "language_info": {
   "name": "python",
   "version": "3.10.11"
  }
 },
 "nbformat": 4,
 "nbformat_minor": 2
}

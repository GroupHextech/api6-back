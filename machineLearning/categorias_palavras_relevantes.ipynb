{
 "cells": [
  {
   "cell_type": "code",
   "execution_count": 1,
   "metadata": {},
   "outputs": [
    {
     "name": "stderr",
     "output_type": "stream",
     "text": [
      "[nltk_data] Downloading package stopwords to\n",
      "[nltk_data]     C:\\Users\\DRM\\AppData\\Roaming\\nltk_data...\n",
      "[nltk_data]   Package stopwords is already up-to-date!\n",
      "[nltk_data] Error loading word_tokenize: Package 'word_tokenize' not\n",
      "[nltk_data]     found in index\n",
      "[nltk_data] Downloading package punkt to\n",
      "[nltk_data]     C:\\Users\\DRM\\AppData\\Roaming\\nltk_data...\n",
      "[nltk_data]   Package punkt is already up-to-date!\n",
      "C:\\Users\\DRM\\AppData\\Local\\Temp\\ipykernel_14260\\1665798328.py:15: DtypeWarning: Columns (2) have mixed types. Specify dtype option on import or set low_memory=False.\n",
      "  dataset = pd.read_csv(\"C:\\\\temporario\\\\api6_fatec\\\\sprint2\\\\ml\\\\csv_completo.csv\")\n"
     ]
    }
   ],
   "source": [
    "import numpy as np\n",
    "import pandas as pd\n",
    "import nltk\n",
    "\n",
    "from nltk.tokenize import word_tokenize\n",
    "from nltk.corpus import stopwords\n",
    "from collections import Counter\n",
    " \n",
    "nltk.download('stopwords')\n",
    "nltk.download('word_tokenize')\n",
    "nltk.download('punkt')\n",
    "\n",
    "#nltk.data.path.append(\"C:\\\\Users\\\\DRM\\AppData\\\\Roaming\\\\nltk_data\")\n",
    "\n",
    "dataset = pd.read_csv(\"C:\\\\temporario\\\\api6_fatec\\\\sprint2\\\\ml\\\\csv_completo.csv\")\n",
    "\n",
    "#print(dataset.head(10))\n",
    "\n"
   ]
  },
  {
   "cell_type": "code",
   "execution_count": 3,
   "metadata": {},
   "outputs": [
    {
     "name": "stdout",
     "output_type": "stream",
     "text": [
      "  site_category_lv1                                        review_text  \\\n",
      "0       Informática  Estou contente com a compra entrega rápida o ú...   \n",
      "\n",
      "  reviewer_state Feeling_Predicted  \n",
      "0             RJ          Positive  \n"
     ]
    }
   ],
   "source": [
    "#print(dataset.columns)\n",
    "colunas_para_excluir = [\"submission_date\", \"reviewer_id\", \"product_id\", \"product_name\",\"product_brand\",\"site_category_lv2\",\"review_title\",\"overall_rating\",\"recommend_to_a_friend\",\"reviewer_birth_year\", \"reviewer_gender\",\"Feeling_True\"]\n",
    "dataset = dataset.drop(colunas_para_excluir, axis=1)\n",
    "\n",
    "# Remover linhas com valores nulos\n",
    "dataset = dataset.dropna()\n",
    "\n",
    "print(dataset.head(1))"
   ]
  },
  {
   "cell_type": "code",
   "execution_count": null,
   "metadata": {},
   "outputs": [],
   "source": []
  },
  {
   "cell_type": "code",
   "execution_count": 4,
   "metadata": {},
   "outputs": [],
   "source": [
    " \n",
    "\n",
    "# Função para processar o texto\n",
    "def process_text(texts):\n",
    "    all_tokens = []\n",
    "\n",
    "     # Remover stopwords\n",
    "    stop_words = set(stopwords.words('portuguese'))\n",
    "    additional_stopwords = {'produto', 'para', 'pra', 'comprei', 'ainda', 'tudo', 'bem', 'chegou', 'pois', 'não','nao', 'pode', 'mais', 'mas', 'dia', 'duas', 'um', 'ter', 'outro', 'dias', 'ar', 'agora', 'demais', 'muito', 'muita', 'tudo', 'todos', 'vem', 'ficar', 'veio', 'fazer', 'ficar', 'ficou', 'saber', 'porque', 'mim', 'me', 'lhe', 'vez', 'eau', 'achei', 'fiquei', 'senti', 'comprar', 'comprei', 'comprou', 'compra', 'vcs','vc', 'vezes', 'vez', 'cm', 'ja','já', 'posso', '15','1','2','3','4','5','6','7','8','9','10','jeito', 'mmmmmmmmmmmmmmmmmmmmmmmmmmmmmm','dar','so','só','porém'}\n",
    "    stop_words.update(additional_stopwords)\n",
    "\n",
    "    common_categories = ['ele', 'ela', 'eles', 'elas', 'um', 'uma', 'uns', 'umas', 'o', 'a', 'os', 'as', 'de', 'em', 'para', 'com', 'sem', 'sobre', 'entre', 'antes', 'depois', 'através', 'de', 'do', 'das', 'dekas', 'deles', 'da','entre', 'todos', 'todas', 'quando', 'como','junto']\n",
    "    stop_words.update(common_categories)\n",
    "\n",
    "    \n",
    "    for text in texts:\n",
    "        # Tokenizar o texto em palavras\n",
    "        tokens = word_tokenize(text.lower())       \n",
    "        filtered_tokens = [word for word in tokens if word.isalnum() and word not in stop_words]\n",
    "        all_tokens.extend(filtered_tokens)\n",
    "    \n",
    "    return all_tokens\n",
    "\n",
    "# Dicionário para armazenar as informações de cada grupo e as palavras mais comuns\n",
    "top_words_by_group = {}\n",
    "\n",
    "for name, group in dataset.groupby(['site_category_lv1', 'reviewer_state', 'Feeling_Predicted']):\n",
    "    texts = group['review_text']\n",
    "    processed_tokens = process_text(texts)\n",
    "    word_counts = Counter(processed_tokens)\n",
    "    # Selecionar as 5 palavras mais comuns\n",
    "    top_words = word_counts.most_common(10)\n",
    "    top_words_by_group[name] = {'top_words': top_words}\n",
    "    "
   ]
  },
  {
   "cell_type": "code",
   "execution_count": 9,
   "metadata": {},
   "outputs": [],
   "source": [
    "\n",
    " \n",
    "\n",
    "# Criar uma lista para armazenar os dados\n",
    "data = []\n",
    "\n",
    "# Iterar sobre o dicionário e extrair as informações necessárias\n",
    "for group_info, contents in top_words_by_group.items():\n",
    "    # group_info contém a tupla com as informações do grupo\n",
    "    # contents contém outro dicionário com as palavras mais comuns\n",
    "    top_words = contents['top_words']\n",
    "    words = []\n",
    "    for word, count in top_words:\n",
    "        words.append({'word':word, 'count':count})\n",
    "\n",
    "    data.append({\n",
    "            'site_category_lv1': group_info[0],\n",
    "            'reviewer_state': group_info[1],\n",
    "            'Feeling_Predicted': group_info[2],\n",
    "            'top_words': words \n",
    "        })\n",
    "\n",
    "# Converter a lista de dicionários em um DataFrame\n",
    "df = pd.DataFrame(data)\n",
    "\n",
    "# Salvar o DataFrame como CSV\n",
    "df.to_csv('top_words_by_group.csv', index=False,sep=';')\n",
    "#print(df)"
   ]
  }
 ],
 "metadata": {
  "kernelspec": {
   "display_name": "myvenv",
   "language": "python",
   "name": "python3"
  },
  "language_info": {
   "codemirror_mode": {
    "name": "ipython",
    "version": 3
   },
   "file_extension": ".py",
   "mimetype": "text/x-python",
   "name": "python",
   "nbconvert_exporter": "python",
   "pygments_lexer": "ipython3",
   "version": "3.11.5"
  }
 },
 "nbformat": 4,
 "nbformat_minor": 2
}

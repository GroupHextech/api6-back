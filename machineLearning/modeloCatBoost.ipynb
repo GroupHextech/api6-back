{
 "cells": [
  {
   "cell_type": "markdown",
   "metadata": {},
   "source": [
    "# Análise de sentimentos \n",
    "\n",
    "## Introdução\n",
    "    (Atenção: este notebook não está em uso pois o modelo Catboost é muito pesado e optamos por utilizar o XGBoost. Será guardado para futuros testes com Google Colab)\n",
    "    \n",
    "Este notebook tem como objetivo realizar análise de sentimento em comentários de clientes de lojas virtuais, oferecidos pela B2W Digital (grupo responsável pelas lojas Submarino, Shoptime e Americanas.com), classificando-os como \"Positivos\", \"Neutros\" ou \"Negativos\", para compor um painel online de de informações e insights sobre a satisfação desses clientes por estado/região do Brasil, construindo assim, uma ferramenta de análise poderosa.\n",
    "Para isso, aqui vamos usar uma biblioteca de machine learning (aprendizado de máquina) chamada CatBoost, e especificamente o modelo CatBoostClassifier.\n",
    "Neste notebook teremos textos explicativos, códigos do projeto realizado e gráficos para análise de resultados."
   ]
  },
  {
   "cell_type": "markdown",
   "metadata": {},
   "source": [
    "## Machine Learning\n",
    "Como dito anteriormente, para realizar nosso aprendizado de máquina e conseguir fazer a análise de sentimento dos comentários, optamos por utilizar o CatBoost. Aqui estão alguns motivos que guiaram a escolha dessa tecnologia:\n",
    "\n",
    "1- Manuseio automático de variáveis categóricas: o CatBoost lida automaticamente com variáveis categóricas, eliminando a necessidade de pré-processamento manual, como a codificação one-hot.\n",
    "\n",
    "2- Prevenção de overfitting: utiliza técnicas avançadas, como permutação de dados, para evitar overfitting e melhorar a generalização do modelo.\n",
    "\n",
    "3- Treinamento eficiente em grandes conjuntos de dados: essa biblioteca é otimizada para treinar modelos rapidamente, mesmo em grandes conjuntos de dados, tornando-o adequado para projetos de grande escala.\n",
    "\n",
    "4- Algoritmo de gradient boosting robusto: baseado em gradient boosting, o CatBoost é poderoso e eficaz para uma variedade de problemas de aprendizado de máquina.\n",
    "\n",
    "5- Facilidade de uso e interpretação: possui uma interface simples e oferece ferramentas para interpretar e visualizar modelos, facilitando a compreensão do processo de aprendizado de máquina.\n"
   ]
  },
  {
   "cell_type": "markdown",
   "metadata": {},
   "source": [
    "## Base de dados\n",
    "Está disponível em [b2w-reviews01](https://github.com/americanas-tech/b2w-reviews01) e contém mais de 130 mil linhas de avaliações de clientes sobre produtos adquiridos no site Americanas.com.\n",
    "Essa base conta com diversas informações, entre as mais importantes para nós estão a avaliação em comentário, a nota que reflete a satisfacação do cliente com base na compra feita e o estado do cliente que avaliou. Além disso também temos mais informações do produto como categoria, marca etc, mais informações pessoais dos clientes como sexo, ano de nascimento etc, um complemento ao nível de satisfação com informação de possível indicação dos produtos, e claro, data das avaliações realizadas."
   ]
  },
  {
   "cell_type": "markdown",
   "metadata": {},
   "source": [
    "## Principais Bibliotecas\n",
    "\n",
    "### Catboost\n",
    "O CatBoost é uma biblioteca de código aberto para machine learning que lida bem com dados categóricos, sem precisar de muita preparação dos dados. Ele é eficiente e fácil de usar, sendo uma escolha popular para classificação e regressão com dados complexos.\n",
    "\n",
    "### Pandas\n",
    "A biblioteca pandas é essencial para a manipulação e análise de dados. Ela oferece estruturas de dados flexíveis, como DataFrames, que são ideais para carregar, manipular e analisar grandes conjuntos de dados. No nosso projeto, pandas é utilizada para ler arquivos CSV, explorar os dados e realizar operações de limpeza e transformação.\n",
    "\n",
    "### NLTK\n",
    "O NLTK (Natural Language Toolkit) é uma biblioteca poderosa para processamento de linguagem natural (PLN). Ela inclui ferramentas para tokenização, stemming, lematização e remoção de stopwords, que são fundamentais para a preparação de dados textuais. No nosso contexto de análise de sentimentos, o nltk ajuda a transformar texto bruto em uma forma que pode ser analisada por algoritmos de machine learning.\n",
    "\n",
    "### sklearn (scikit-learn)\n",
    "A biblioteca scikit-learn é uma ferramenta robusta para machine learning em Python. Ela oferece vários módulos para dividir dados, criar modelos e avaliar sua performance. Neste projeto, scikit-learn é utilizada para:\n",
    "* model_selection: nas ferramentas como train_test_split e StratifiedKFold para dividir os dados em conjuntos de treino e teste, e para realizar validação cruzada.\n",
    "* feature_extraction.text: o CountVectorizer transforma texto em vetores de contagem de palavras, permitindo que dados textuais sejam usados por modelos de machine learning.\n",
    "* metrics: nas funções como confusion_matrix, precision_score, recall_score, f1_score, roc_curve e auc para avaliar a performance do modelo.\n",
    "\n",
    "### Matplotlib e seaborn\n",
    "As bibliotecas matplotlib e seaborn são usadas para visualização de dados. Elas permitem criar gráficos e visualizações que ajudam a entender a distribuição dos dados e a performance do modelo. Especificamente, usamos:\n",
    "* matplotlib.pyplot: ferramentas básicas para criação de gráficos 2D.\n",
    "* seaborn: facilita a criação de gráficos estatísticos mais atraentes e informativos, ajudando na análise exploratória dos dados.\n",
    "\n",
    "### Joblib\n",
    "Essa biblioteca é utilizada para serializar e desserializar objetos Python, como modelos de machine learning treinados. Isso permite salvar um modelo treinado em disco e carregá-lo posteriormente para fazer previsões."
   ]
  },
  {
   "cell_type": "code",
   "execution_count": 7,
   "metadata": {},
   "outputs": [
    {
     "name": "stderr",
     "output_type": "stream",
     "text": [
      "[nltk_data] Downloading package stopwords to\n",
      "[nltk_data]     C:\\Users\\ghans\\AppData\\Roaming\\nltk_data...\n",
      "[nltk_data]   Package stopwords is already up-to-date!\n",
      "[nltk_data] Downloading package punkt to\n",
      "[nltk_data]     C:\\Users\\ghans\\AppData\\Roaming\\nltk_data...\n",
      "[nltk_data]   Package punkt is already up-to-date!\n",
      "[nltk_data] Downloading package wordnet to\n",
      "[nltk_data]     C:\\Users\\ghans\\AppData\\Roaming\\nltk_data...\n",
      "[nltk_data]   Package wordnet is already up-to-date!\n"
     ]
    },
    {
     "data": {
      "text/plain": [
       "True"
      ]
     },
     "execution_count": 7,
     "metadata": {},
     "output_type": "execute_result"
    }
   ],
   "source": [
    "# Importação das bibliotecas usadas\n",
    "import re\n",
    "import string\n",
    "import unicodedata\n",
    "import numpy as np\n",
    "import pandas as pd\n",
    "import nltk\n",
    "from nltk.tokenize import word_tokenize\n",
    "from nltk.corpus import stopwords\n",
    "from nltk.stem import WordNetLemmatizer\n",
    "from sklearn.model_selection import train_test_split, cross_val_score, StratifiedKFold\n",
    "from sklearn.feature_extraction.text import CountVectorizer\n",
    "from sklearn.metrics import confusion_matrix, accuracy_score, precision_score, recall_score, f1_score, roc_curve, auc\n",
    "import matplotlib.pyplot as plt\n",
    "import seaborn as sns\n",
    "from joblib import dump\n",
    "from tabulate import tabulate\n",
    "from catboost import CatBoostClassifier\n",
    "from sklearn.model_selection import StratifiedKFold\n",
    "\n",
    "\n",
    "# Baixa recursos necessários do NLTK\n",
    "nltk.download('stopwords')\n",
    "nltk.download('punkt')\n",
    "nltk.download('wordnet')"
   ]
  },
  {
   "cell_type": "markdown",
   "metadata": {},
   "source": [
    "## Tratamento da base\n",
    "Aqui veremos uma série de etapas para limpar e tratar nossa base de dados, para que seja possível realizar um treinamento efetivo do modelo com ela."
   ]
  },
  {
   "cell_type": "markdown",
   "metadata": {},
   "source": [
    "### Limpeza inicial\n",
    "\n",
    "Estamos usando a já mencionada biblioteca Pandas, para fazer a leitura da nossa base, que está em formato CSV. Após isso, removemos as linhas com valores nulos nas colunas de comentário (review_text) e nota da avaliação (overall_rating)."
   ]
  },
  {
   "cell_type": "code",
   "execution_count": 8,
   "metadata": {},
   "outputs": [
    {
     "name": "stdout",
     "output_type": "stream",
     "text": [
      "Tamanho do dataset original: 132373 \n",
      "\n",
      "Tamanho do dataset alterado: 129098 \n",
      "\n"
     ]
    },
    {
     "name": "stderr",
     "output_type": "stream",
     "text": [
      "C:\\Users\\ghans\\AppData\\Local\\Temp\\ipykernel_24396\\3311458984.py:2: DtypeWarning: Columns (2) have mixed types. Specify dtype option on import or set low_memory=False.\n",
      "  dataset = pd.read_csv(\"C:\\\\fatec\\\\B2W-Reviews01\\\\B2W-Reviews01.csv\")\n"
     ]
    }
   ],
   "source": [
    "# Carrega o conjunto de dados\n",
    "dataset = pd.read_csv(\"C:\\\\fatec\\\\B2W-Reviews01\\\\B2W-Reviews01.csv\")\n",
    "\n",
    "# Mostra o tamanho do dataset original\n",
    "print(\"Tamanho do dataset original:\", dataset.shape[0], \"\\n\")\n",
    "\n",
    "# Remove linhas com valores em branco\n",
    "dataset = dataset.dropna(subset=['review_text', 'overall_rating'])\n",
    "\n",
    "# Mostra o tamanho do dataset alterado\n",
    "print(\"Tamanho do dataset alterado:\", dataset.shape[0], \"\\n\")\n"
   ]
  },
  {
   "cell_type": "markdown",
   "metadata": {},
   "source": [
    "### Classificação de comentários\n",
    "Agora que limpamos, precisamos classificar os comentários para ter um rótulo dos nossos dados e assim tornar possível o treinamento. Para isso, criamos uma nova coluna chamada 'feeling' (sentimento), que armazenará uma das três opções: 0, 1 e 2, considerando que 0 representa comentários negativos, 1 representa comentários neutros e 2 representa comentários positivos. \n",
    "Essa atribuição foi feita com base na nota de cada comentário da avaliação, os comentários com nota abaixo de 3 consideramos como negativos, os com nota igual a 3 são neutros e com nota maior que 2, são positivos. Lembrando que cada comentário pode ter uma nota de 0 a 5."
   ]
  },
  {
   "cell_type": "code",
   "execution_count": 9,
   "metadata": {},
   "outputs": [
    {
     "name": "stdout",
     "output_type": "stream",
     "text": [
      "Primeiros registros do dataset:\n",
      "|    | submission_date     | reviewer_id                                                      |   product_id | product_name                                                                                                                   | product_brand   | site_category_lv1       | site_category_lv2             | review_title                     |   overall_rating | recommend_to_a_friend   | review_text                                                                                                                                                                                                                                                         |   reviewer_birth_year | reviewer_gender   | reviewer_state   |   feeling |\n",
      "|---:|:--------------------|:-----------------------------------------------------------------|-------------:|:-------------------------------------------------------------------------------------------------------------------------------|:----------------|:------------------------|:------------------------------|:---------------------------------|-----------------:|:------------------------|:--------------------------------------------------------------------------------------------------------------------------------------------------------------------------------------------------------------------------------------------------------------------|----------------------:|:------------------|:-----------------|----------:|\n",
      "|  0 | 2018-01-01 00:11:28 | d0fb1ca69422530334178f5c8624aa7a99da47907c44de0243719b15d50623ce |    132532965 | Notebook Asus Vivobook Max X541NA-GO472T Intel Celeron Quad Core 4GB 500GB Tela LED 15,6\" Windows - 10 Branco                  | nan             | Informática             | Notebook                      | Bom                              |                4 | Yes                     | Estou contente com a compra entrega rápida o único problema com as Americanas é se houver troca ou devolução do produto o consumidor tem problemas com espera.                                                                                                      |                  1958 | F                 | RJ               |         2 |\n",
      "|  1 | 2018-01-01 00:13:48 | 014d6dc5a10aed1ff1e6f349fb2b059a2d3de511c7538a9008da562ead5f5ecd |     22562178 | Copo Acrílico Com Canudo 500ml Rocie                                                                                           | nan             | Utilidades Domésticas   | Copos, Taças e Canecas        | Preço imbatível, ótima qualidade |                4 | Yes                     | Por apenas R$1994.20,eu consegui comprar esse lindo copo de acrílico.                                                                                                                                                                                               |                  1996 | M                 | SC               |         2 |\n",
      "|  2 | 2018-01-01 00:26:02 | 44f2c8edd93471926fff601274b8b2b5c4824e386ae4f210329b9b71890277fd |    113022329 | Panela de Pressão Elétrica Philips Walita Daily 5L com Timer                                                                   | philips walita  | Eletroportáteis         | Panela Elétrica               | ATENDE TODAS AS EXPECTATIVA.     |                4 | Yes                     | SUPERA EM AGILIDADE E PRATICIDADE OUTRAS PANELAS ELÉTRICAS.  COSTUMO USAR OUTRA PANELA PARA COZIMENTO DE ARROZ (JAPONESA), MAS LEVA MUITO TEMPO,  +/- 50 MINUTOS.  NESSA PANELA  É MUITO MAIS RÁPIDO, EXATAMENTE 6 MINUTOS.    EU RECOMENDO.                        |                  1984 | M                 | SP               |         2 |\n",
      "|  3 | 2018-01-01 00:35:54 | ce741665c1764ab2d77539e18d0e4f66dde6213c9f0863f165ffedb1e8147984 |    113851581 | Betoneira Columbus - Roma Brinquedos                                                                                           | roma jensen     | Brinquedos              | Veículos de Brinquedo         | presente mais que desejado       |                4 | Yes                     | MEU FILHO AMOU! PARECE DE VERDADE COM TANTOS DETALHES QUE TÊM!                                                                                                                                                                                                      |                  1985 | F                 | SP               |         2 |\n",
      "|  4 | 2018-01-01 01:00:28 | 7d7b6b18dda804a897359276cef0ca252f9932bf4b5c8e72bce7e88850efa0fc |    131788803 | Smart TV LED 43\" LG 43UJ6525 Ultra HD 4K com Conversor Digital 4 HDMI 2 USB WebOS 3.5 Painel Ips HDR e Magic Mobile Connection | lg              | TV e Home Theater       | TV                            | Sem duvidas, excelente           |                5 | Yes                     | A entrega foi no prazo, as americanas estão de parabéns. A smart tv é muito boa, a navegação na internete e pelos aplicativos e excelente, não trava, sem falar da imagem que é de surpreender. recomendo.                                                          |                  1994 | M                 | MG               |         2 |\n",
      "|  5 | 2018-01-01 01:27:23 | 28b1844e1cd24dd2288b7cafb052a0b46aed53ab28e1c11632e3a2297a64aad8 |     22562178 | Copo Acrílico Com Canudo 500ml Rocie                                                                                           | nan             | Utilidades Domésticas   | Copos, Taças e Canecas        | Produto imperdível               |                5 | Yes                     | Excelente produto, por fora em material acrílico super resistente e por dentro em adamantio, faz milagre com qualquer bebida. Sugiro aproveitarem a promoção antes que acabe.                                                                                       |                  1979 | M                 | PA               |         2 |\n",
      "|  6 | 2018-01-01 01:54:38 | 48907a04d70947344017b351e8fc232bfc80dae2c33ac2e1524db127231ac542 |     22562178 | Copo Acrílico Com Canudo 500ml Rocie                                                                                           | nan             | Utilidades Domésticas   | Copos, Taças e Canecas        | ótimo                            |                5 | Yes                     | produto mto bom, com essa garrafinha vc pode até servir água pro megazord. To pensando em vender minha tv pra comprar 1 garrafa dessa. RECOMENDO                                                                                                                    |                   nan | nan               | nan              |         2 |\n",
      "|  7 | 2018-01-01 01:58:17 | e039cbff059effe12756772b358af4323c2157e9561da88dbdbfb37181179172 |    132444092 | Smartphone Motorola Moto G 5S Dual Chip Android 7.1.1 Nougat Tela 5.2\" Snapdragon 430 32GB 4G Câmera 16MP - Platinum           | nan             | Celulares e Smartphones | Smartphone                    | Gostei bastante do produto       |                4 | Yes                     | Produto excelente qualidade boa câmera desenvolvimento do Android com rapidez                                                                                                                                                                                       |                  1987 | M                 | GO               |         2 |\n",
      "|  8 | 2018-01-01 02:02:13 | a0fd1ad35b08d3b764ad6f884ef7183bf29fc7ebfcae65964d7e9c200e3c9335 |    122776350 | Ventilador de Teto Ventisol Fenix Premium Branco 3 velocidades com Controle Remoto                                             | ventisol        | Casa e Construção       | Climatização                  | Gostei do produto                |                5 | Yes                     | O barulho e minimo e o vento é bem forte na velocidade 2                                                                                                                                                                                                            |                  1987 | M                 | SP               |         2 |\n",
      "|  9 | 2018-01-01 02:16:06 | eb1cceab541aac33c21f2c2503b8a529d07a9837f8eec7f2d227520e754cd405 |     23474928 | Kit 10 Peças Fita Led 12v 5050 300 Leds Rgb + Fonte                                                                            | nan             | Casa e Construção       | Iluminação                    | NÃO RECEBI O PRODUTO             |                1 | No                      | MEU PRODUTO NAO FOI ENTREGUE E A AMERICANAS ESTA DESCONTANDO NA FATURA DO MEU CARTÃO                                                                                                                                                                                |                  1984 | M                 | RJ               |         0 |\n",
      "| 10 | 2018-01-01 02:54:14 | 3faead0bd5bb48ea5c7f82d5f3467a7a7cdcd55391e4981a6007b65cd20ceff3 |     22562178 | Copo Acrílico Com Canudo 500ml Rocie                                                                                           | nan             | Utilidades Domésticas   | Copos, Taças e Canecas        | Fantástico                       |                5 | Yes                     | Comprei um pra cara membro da família nesse natal@!!!!                                                                                                                                                                                                              |                   nan | nan               | nan              |         2 |\n",
      "| 11 | 2018-01-01 03:06:04 | 74cfe73e7489f0ed1f4d1f012efbc5a8e0958c3559b65d4630f59ab9fce9a17e |    126474851 | Aspirador de Pó Philco Rapid 1000N Vermelho/Preto - 1000W                                                                      | philco          | Eletroportáteis         | Aspirador e Vassoura Elétrica | Maravilhoso!!!                   |                5 | Yes                     | Produto maravilhoso! Não é barulhento, fácil manuseio, tranquilo de montar e desmontar, entrega antes do prazo mesmo se tratando de época do Natal. Americanas de parabéns e o produto muito bom. Recomendo com força.                                              |                  1967 | F                 | RJ               |         2 |\n",
      "| 12 | 2018-01-01 03:32:47 | 0caab33faedce9bfcb6fb0bd68b0ee8ce48860fa295d3f6f5699163e310fa3df |     29302228 | Conjunto de Panelas Antiaderente Turim 10 Peças Vermelha Tramontina                                                            | nan             | Utilidades Domésticas   | Panelas                       | Amei o produto                   |                5 | No                      | Jogo de panelas excelente material, entrega a tempo, design muito bom.                                                                                                                                                                                              |                   nan | nan               | nan              |         2 |\n",
      "| 13 | 2018-01-01 03:35:48 | 1c1d746a5a1b9d0780d0dc0038d827f11658baf703e3fd1218db0edec3b04134 |    132444050 | Smartphone Motorola Moto G 5S Dual Chip Android 7.1.1 Nougat Tela 5.2\" Snapdragon 430 32GB 4G Câmera 16MP - Dourado            | nan             | Celulares e Smartphones | Smartphone                    | Revoltado                        |                1 | No                      | Esse celular não vale nada a bateria não vale nada descarrega sozinha quando estar usando esquenta tanto que faz medo espludi foi a pior compra da minha vida se eu tivesse condições quebrava ele em mil pedaços e comprava outro de qualquer marca menos Motorola |                  1970 | M                 | BA               |         0 |\n",
      "| 14 | 2018-01-01 03:59:57 | b47d9ca2cafe181ebcdd6f7e085e4354e566bd0115fa21101037a120c205aad0 |     24717741 | Tênis Casual Conforto Beira Rio                                                                                                | nan             | Moda                    | Feminino                      | satisfeito                       |                5 | Yes                     | produto de acordo com o que eu esperava. Somente o prazo de entrega que ficou um pouco a desejar, um pouco longo                                                                                                                                                    |                  1961 | M                 | SP               |         2 |\n",
      "| 15 | 2018-01-01 04:03:27 | 7c057e5502616bfedf0253c9a1df3945e4779ec836ea6b8b6fbddae82b5b93e9 |     16804573 | Mochila Sport Escolar Camping Trilha Viagem Passeio                                                                            | nan             | Malas e Acessórios      | Mochilas                      | o zipe                           |                2 | No                      | a mochila nao esta fechando direito por isso nao recomendo se meu filho nao tivesse deixado suja ia devolver                                                                                                                                                        |                  1976 | M                 | RJ               |         0 |\n",
      "| 16 | 2018-01-01 04:09:40 | c594d4f3ee6220b9a522a985a52ac990c2123287877205f9e17f294f19738e09 |     11491071 | Toldo Versátil Artplas 120x60cm Branco E Cristal                                                                               | nan             | Móveis                  | Puff e Tamborete              | Condizente com o anúncio         |                4 | Yes                     | Produto condizente com o anúncio, com material de boa qualidade, fácil instalação, montagem e preço de acordo com a necessidade de cada um...                                                                                                                       |                  1973 | M                 | SP               |         2 |\n",
      "| 17 | 2018-01-01 04:11:35 | bcbf1fc81b0cbc699349864ddf265e7433cea4d4851d2626d3c21f36417ec878 |    132381802 | Smart TV LED 65\" Samsung 65MU6100 UHD 4K HDR Premium com Conversor Digital 3 HDMI 2 USB 120Hz                                  | nan             | TV e Home Theater       | TV                            | muito bom                        |                4 | Yes                     | nao tenho nada a reclamar, bom atendimento e entrega dentro do combinado.                                                                                                                                                                                           |                  1950 | M                 | SP               |         2 |\n",
      "| 18 | 2018-01-01 04:12:32 | 6fb7f311f44940ce39ffd38e6f377818920643950d100194ee097cead11f8141 |     16161591 | Barra De Cereal Nestlé Banana, Aveia E Mel 60g 3 Unidades                                                                      | nan             | Alimentos e Bebidas     | Barra de Cereais              | muito bom                        |                4 | Yes                     | Até agora os produtos que eu comprei foram entregue certo. Obrigado que continua assim.                                                                                                                                                                             |                  1980 | M                 | SP               |         2 |\n",
      "| 19 | 2018-01-01 04:24:12 | 5366bb0e7ee5808a78dce8602122c5a01bbee5b66c9af91a145b96d5bc0d6e9e |     26936514 | Capa Protetora Toyota Corola Com Cadeado                                                                                       | nan             | Automotivo              | Capas para Carro              | Vou usa-la                       |                3 | Yes                     | A capa não decepcionou por enquanto, mas a bolsa para guarda ou transporte é extremamente frágil, na abertura para conferência já rasgou toda a volta junto ao fecho. Péssima impressão, terei que guarda-la noutra embalagem. Uma pena!!!!!                        |                  1953 | M                 | RS               |         1 |\n"
     ]
    }
   ],
   "source": [
    "# Cria uma nova coluna para classificar entre comentários positivos(2), negativos(0) ou neutros(1) com base na nota:\n",
    "dataset['feeling'] = np.where(dataset['overall_rating'] < 3, 0, np.where(dataset['overall_rating'] == 3, 1, 2))\n",
    "\n",
    "# Mostra os primeiros registros do dataset\n",
    "print(\"Primeiros registros do dataset:\")\n",
    "print(tabulate(dataset.head(20), headers='keys', tablefmt='pipe'))\n"
   ]
  },
  {
   "cell_type": "markdown",
   "metadata": {},
   "source": [
    "### Tratamento do texto\n",
    "Aqui vamos passar nossa base de dados por mais diversas etapas de limpeza e pré-processamento de dados, para tratar o texto e assim facilitar a obteção de bons resultados no treinamento. As etapas utilizadas foram:\n",
    "\n",
    "* Conversão para minúsculas:todos os caracteres são convertidos para minúsculas para garantir consistência nos dados.\n",
    "* Remoção de Acentos: simplifica o texto, removendo caracteres especiais.\n",
    "* Remoção de Números: os números são removidos usando expressões regulares, pois geralmente não são relevantes para a análise de texto.\n",
    "* Remoção de Caracteres Especiais: caracteres especiais, como emojis, são removidos para manter apenas o texto relevante.\n",
    "* Remoção de Pontuação: ajuda a limpar o texto e simplificar a tokenização.\n",
    "* Remoção de Espaços Extras: espaços extras são removidos para garantir que o texto esteja bem formatado.\n",
    "* Tokenização: o texto é dividido em tokens (palavras individuais) para facilitar a lematização e a remoção de stopwords.\n",
    "* **Lematização** e **Remoção de Stopwords**: cada token é lematizado (reduzido à sua forma base) e as stopwords são removidas para melhorar a precisão da análise.\n",
    "    * A **lematização** é o processo de reduzir uma palavra à sua forma base, chamada lema. Por exemplo, as palavras \"gato\", \"gata\", \"gatos\" e \"gatas\" têm o mesmo lema: \"gato\". Isso é útil na análise de texto porque simplifica as palavras, permitindo que os modelos de linguagem entendam melhor o significado dos textos.\n",
    "\n",
    "    * A **remoção de stopwords** é uma etapa essencial no pré-processamento de texto, pois elimina palavras comuns que não contribuem para a análise, como \"e\", \"de\" e \"que\". Isso ajuda a reduzir o ruído nos dados e a melhorar a eficácia dos modelos de análise de texto.\n"
   ]
  },
  {
   "cell_type": "code",
   "execution_count": 10,
   "metadata": {},
   "outputs": [
    {
     "name": "stdout",
     "output_type": "stream",
     "text": [
      "\n",
      "Dataset após pré-processamento:\n",
      "|    | submission_date     | reviewer_id                                                      |   product_id | product_name                                                                                                                   | product_brand   | site_category_lv1       | site_category_lv2             | review_title                     |   overall_rating | recommend_to_a_friend   | review_text                                                                                                                                                                                        |   reviewer_birth_year | reviewer_gender   | reviewer_state   |   feeling |\n",
      "|---:|:--------------------|:-----------------------------------------------------------------|-------------:|:-------------------------------------------------------------------------------------------------------------------------------|:----------------|:------------------------|:------------------------------|:---------------------------------|-----------------:|:------------------------|:---------------------------------------------------------------------------------------------------------------------------------------------------------------------------------------------------|----------------------:|:------------------|:-----------------|----------:|\n",
      "|  0 | 2018-01-01 00:11:28 | d0fb1ca69422530334178f5c8624aa7a99da47907c44de0243719b15d50623ce |    132532965 | Notebook Asus Vivobook Max X541NA-GO472T Intel Celeron Quad Core 4GB 500GB Tela LED 15,6\" Windows - 10 Branco                  | nan             | Informática             | Notebook                      | Bom                              |                4 | Yes                     | contente compra entrega rapida unico problema americana troca devolucao produto consumidor problemas espera                                                                                        |                  1958 | F                 | RJ               |         2 |\n",
      "|  1 | 2018-01-01 00:13:48 | 014d6dc5a10aed1ff1e6f349fb2b059a2d3de511c7538a9008da562ead5f5ecd |     22562178 | Copo Acrílico Com Canudo 500ml Rocie                                                                                           | nan             | Utilidades Domésticas   | Copos, Taças e Canecas        | Preço imbatível, ótima qualidade |                4 | Yes                     | apenas reu consegui comprar lindo copo acrilico                                                                                                                                                    |                  1996 | M                 | SC               |         2 |\n",
      "|  2 | 2018-01-01 00:26:02 | 44f2c8edd93471926fff601274b8b2b5c4824e386ae4f210329b9b71890277fd |    113022329 | Panela de Pressão Elétrica Philips Walita Daily 5L com Timer                                                                   | philips walita  | Eletroportáteis         | Panela Elétrica               | ATENDE TODAS AS EXPECTATIVA.     |                4 | Yes                     | supera agilidade praticidade outras panelas eletricas costumo usar outra panela cozimento arroz japonesa lev tempo minutos nessa panela rapido exatamente minutos recomendo                        |                  1984 | M                 | SP               |         2 |\n",
      "|  3 | 2018-01-01 00:35:54 | ce741665c1764ab2d77539e18d0e4f66dde6213c9f0863f165ffedb1e8147984 |    113851581 | Betoneira Columbus - Roma Brinquedos                                                                                           | roma jensen     | Brinquedos              | Veículos de Brinquedo         | presente mais que desejado       |                4 | Yes                     | filho amou parece verdade tantos detalhes                                                                                                                                                          |                  1985 | F                 | SP               |         2 |\n",
      "|  4 | 2018-01-01 01:00:28 | 7d7b6b18dda804a897359276cef0ca252f9932bf4b5c8e72bce7e88850efa0fc |    131788803 | Smart TV LED 43\" LG 43UJ6525 Ultra HD 4K com Conversor Digital 4 HDMI 2 USB WebOS 3.5 Painel Ips HDR e Magic Mobile Connection | lg              | TV e Home Theater       | TV                            | Sem duvidas, excelente           |                5 | Yes                     | entrega prazo americana estao parabens smart tv boa navegacao internete aplicativos excelente nao trava falar imagem surpreender recomendo                                                         |                  1994 | M                 | MG               |         2 |\n",
      "|  5 | 2018-01-01 01:27:23 | 28b1844e1cd24dd2288b7cafb052a0b46aed53ab28e1c11632e3a2297a64aad8 |     22562178 | Copo Acrílico Com Canudo 500ml Rocie                                                                                           | nan             | Utilidades Domésticas   | Copos, Taças e Canecas        | Produto imperdível               |                5 | Yes                     | excelente produto material acrilico super resistente dentro adamantio faz milagre qualquer bebida sugiro aproveitarem promocao ante acabe                                                          |                  1979 | M                 | PA               |         2 |\n",
      "|  6 | 2018-01-01 01:54:38 | 48907a04d70947344017b351e8fc232bfc80dae2c33ac2e1524db127231ac542 |     22562178 | Copo Acrílico Com Canudo 500ml Rocie                                                                                           | nan             | Utilidades Domésticas   | Copos, Taças e Canecas        | ótimo                            |                5 | Yes                     | produto mto bom garrafinha vc pode ate servir agua pro megazord to pensando vender tv pra comprar garrafa dessa recomendo                                                                          |                   nan | nan               | nan              |         2 |\n",
      "|  7 | 2018-01-01 01:58:17 | e039cbff059effe12756772b358af4323c2157e9561da88dbdbfb37181179172 |    132444092 | Smartphone Motorola Moto G 5S Dual Chip Android 7.1.1 Nougat Tela 5.2\" Snapdragon 430 32GB 4G Câmera 16MP - Platinum           | nan             | Celulares e Smartphones | Smartphone                    | Gostei bastante do produto       |                4 | Yes                     | produto excelente qualidade boa camera desenvolvimento android rapidez                                                                                                                             |                  1987 | M                 | GO               |         2 |\n",
      "|  8 | 2018-01-01 02:02:13 | a0fd1ad35b08d3b764ad6f884ef7183bf29fc7ebfcae65964d7e9c200e3c9335 |    122776350 | Ventilador de Teto Ventisol Fenix Premium Branco 3 velocidades com Controle Remoto                                             | ventisol        | Casa e Construção       | Climatização                  | Gostei do produto                |                5 | Yes                     | barulho minimo vento bem forte velocidade                                                                                                                                                          |                  1987 | M                 | SP               |         2 |\n",
      "|  9 | 2018-01-01 02:16:06 | eb1cceab541aac33c21f2c2503b8a529d07a9837f8eec7f2d227520e754cd405 |     23474928 | Kit 10 Peças Fita Led 12v 5050 300 Leds Rgb + Fonte                                                                            | nan             | Casa e Construção       | Iluminação                    | NÃO RECEBI O PRODUTO             |                1 | No                      | produto nao entregue americana descontando fatura cartao                                                                                                                                           |                  1984 | M                 | RJ               |         0 |\n",
      "| 10 | 2018-01-01 02:54:14 | 3faead0bd5bb48ea5c7f82d5f3467a7a7cdcd55391e4981a6007b65cd20ceff3 |     22562178 | Copo Acrílico Com Canudo 500ml Rocie                                                                                           | nan             | Utilidades Domésticas   | Copos, Taças e Canecas        | Fantástico                       |                5 | Yes                     | comprei pra cara membro familia nesse natal                                                                                                                                                        |                   nan | nan               | nan              |         2 |\n",
      "| 11 | 2018-01-01 03:06:04 | 74cfe73e7489f0ed1f4d1f012efbc5a8e0958c3559b65d4630f59ab9fce9a17e |    126474851 | Aspirador de Pó Philco Rapid 1000N Vermelho/Preto - 1000W                                                                      | philco          | Eletroportáteis         | Aspirador e Vassoura Elétrica | Maravilhoso!!!                   |                5 | Yes                     | produto maravilhoso nao barulhento facil manuseio tranquilo montar desmontar entrega ante prazo tratando epoca natal americana parabens produto bom recomendo forca                                |                  1967 | F                 | RJ               |         2 |\n",
      "| 12 | 2018-01-01 03:32:47 | 0caab33faedce9bfcb6fb0bd68b0ee8ce48860fa295d3f6f5699163e310fa3df |     29302228 | Conjunto de Panelas Antiaderente Turim 10 Peças Vermelha Tramontina                                                            | nan             | Utilidades Domésticas   | Panelas                       | Amei o produto                   |                5 | No                      | jogo panelas excelente material entrega tempo design bom                                                                                                                                           |                   nan | nan               | nan              |         2 |\n",
      "| 13 | 2018-01-01 03:35:48 | 1c1d746a5a1b9d0780d0dc0038d827f11658baf703e3fd1218db0edec3b04134 |    132444050 | Smartphone Motorola Moto G 5S Dual Chip Android 7.1.1 Nougat Tela 5.2\" Snapdragon 430 32GB 4G Câmera 16MP - Dourado            | nan             | Celulares e Smartphones | Smartphone                    | Revoltado                        |                1 | No                      | celular nao vale nada bateria nao vale nada descarrega sozinha usando esquenta tanto faz medo espludi pior compra vida condicoes quebrava mil pedacos comprava outro qualquer marca menos motorola |                  1970 | M                 | BA               |         0 |\n",
      "| 14 | 2018-01-01 03:59:57 | b47d9ca2cafe181ebcdd6f7e085e4354e566bd0115fa21101037a120c205aad0 |     24717741 | Tênis Casual Conforto Beira Rio                                                                                                | nan             | Moda                    | Feminino                      | satisfeito                       |                5 | Yes                     | produto acordo esperava somente prazo entrega ficou pouco desejar pouco longo                                                                                                                      |                  1961 | M                 | SP               |         2 |\n",
      "| 15 | 2018-01-01 04:03:27 | 7c057e5502616bfedf0253c9a1df3945e4779ec836ea6b8b6fbddae82b5b93e9 |     16804573 | Mochila Sport Escolar Camping Trilha Viagem Passeio                                                                            | nan             | Malas e Acessórios      | Mochilas                      | o zipe                           |                2 | No                      | mochila nao fechando direito nao recomendo filho nao deixado suja ia devolver                                                                                                                      |                  1976 | M                 | RJ               |         0 |\n",
      "| 16 | 2018-01-01 04:09:40 | c594d4f3ee6220b9a522a985a52ac990c2123287877205f9e17f294f19738e09 |     11491071 | Toldo Versátil Artplas 120x60cm Branco E Cristal                                                                               | nan             | Móveis                  | Puff e Tamborete              | Condizente com o anúncio         |                4 | Yes                     | produto condizente anuncio material boa qualidade facil instalacao montagem preco acordo necessidade cada                                                                                          |                  1973 | M                 | SP               |         2 |\n",
      "| 17 | 2018-01-01 04:11:35 | bcbf1fc81b0cbc699349864ddf265e7433cea4d4851d2626d3c21f36417ec878 |    132381802 | Smart TV LED 65\" Samsung 65MU6100 UHD 4K HDR Premium com Conversor Digital 3 HDMI 2 USB 120Hz                                  | nan             | TV e Home Theater       | TV                            | muito bom                        |                4 | Yes                     | nao nada reclamar bom atendimento entrega dentro combinado                                                                                                                                         |                  1950 | M                 | SP               |         2 |\n",
      "| 18 | 2018-01-01 04:12:32 | 6fb7f311f44940ce39ffd38e6f377818920643950d100194ee097cead11f8141 |     16161591 | Barra De Cereal Nestlé Banana, Aveia E Mel 60g 3 Unidades                                                                      | nan             | Alimentos e Bebidas     | Barra de Cereais              | muito bom                        |                4 | Yes                     | ate agora produtos comprei entregue certo obrigado continuum assim                                                                                                                                 |                  1980 | M                 | SP               |         2 |\n",
      "| 19 | 2018-01-01 04:24:12 | 5366bb0e7ee5808a78dce8602122c5a01bbee5b66c9af91a145b96d5bc0d6e9e |     26936514 | Capa Protetora Toyota Corola Com Cadeado                                                                                       | nan             | Automotivo              | Capas para Carro              | Vou usa-la                       |                3 | Yes                     | capa nao decepcionou enquanto bolsa guarda transporte extremamente fragil abertura conferencia ja rasgou toda volta junto fecho pessima impressao guardala noutra embalagem pena                   |                  1953 | M                 | RS               |         1 |\n"
     ]
    }
   ],
   "source": [
    "# Criação da instância do lematizador e das stopwords\n",
    "lemmatizer = WordNetLemmatizer()\n",
    "stop_words = set(stopwords.words('portuguese'))\n",
    "\n",
    "# Lista para armazenar os textos pré-processados\n",
    "preprocessed_texts = []\n",
    "\n",
    "# Itera sobre cada texto no dataset para pré-processamento\n",
    "for text in dataset['review_text']:\n",
    "    # Verifica se o texto é uma string\n",
    "    if isinstance(text, str):\n",
    "        # Converte para minúsculas\n",
    "        text = text.lower()\n",
    "        # Remove acentos\n",
    "        text = ''.join(char for char in unicodedata.normalize('NFKD', text) if unicodedata.category(char) != 'Mn')\n",
    "        # Remove números usando expressão regular\n",
    "        text = re.sub(r'\\d+', '', text)\n",
    "        # Remove caracteres especiais (incluindo emojis)\n",
    "        text = re.sub(r'[^\\w\\s]', '', text)\n",
    "        # Remove pontuação\n",
    "        text = text.translate(str.maketrans('', '', string.punctuation))\n",
    "        # Remove espaços extras\n",
    "        text = re.sub(r'\\s+', ' ', text).strip()\n",
    "        # Tokenização\n",
    "        tokens = word_tokenize(text)\n",
    "        # Lematização e remoção de stopwords\n",
    "        tokens = [lemmatizer.lemmatize(word) for word in tokens if word.isalpha() and word.lower() not in stop_words]\n",
    "        # Junta os tokens em texto novamente\n",
    "        preprocessed_text = ' '.join(tokens)\n",
    "        # Adiciona o texto pré-processado à lista\n",
    "        preprocessed_texts.append(preprocessed_text)\n",
    "    else:\n",
    "        preprocessed_texts.append(\"\")\n",
    "\n",
    "# Substitui os textos originais pelos textos já preparados para análise\n",
    "dataset['review_text'] = preprocessed_texts\n",
    "\n",
    "# Mostra a base de dados após o pré-processamento\n",
    "print(\"\\nDataset após pré-processamento:\")\n",
    "print(tabulate(dataset.head(10), headers='keys', tablefmt='pipe'))"
   ]
  },
  {
   "cell_type": "code",
   "execution_count": 11,
   "metadata": {},
   "outputs": [],
   "source": [
    "# Separar os dados em features (X) e target (Y)\n",
    "X = dataset['review_text'].values\n",
    "Y = dataset['feeling'].values"
   ]
  },
  {
   "cell_type": "code",
   "execution_count": 12,
   "metadata": {},
   "outputs": [],
   "source": [
    "# Criar um objeto CountVectorizer com N-grams\n",
    "ngram_vectorizer = CountVectorizer(ngram_range=(1, 3))  # Considera unigramas, bigramas e trigramas\n",
    "\n",
    "# Vetorizar os dados de texto com N-grams\n",
    "X_ngrams = ngram_vectorizer.fit_transform(X)"
   ]
  },
  {
   "cell_type": "code",
   "execution_count": 13,
   "metadata": {},
   "outputs": [],
   "source": [
    "# Com validação cruzada\n",
    "\n",
    "# Criar uma instância do modelo CatBoost\n",
    "catboost = CatBoostClassifier(\n",
    "    task_type=\"GPU\",\n",
    "    devices=\"0\",\n",
    "    learning_rate=0.1,\n",
    "    l2_leaf_reg=5,\n",
    "    verbose = 50,\n",
    "    iterations=500,\n",
    "    used_ram_limit=\"512mb\",\n",
    "    gpu_ram_part=0.5,\n",
    "    thread_count=1)  \n",
    "\n",
    "# Especificar o número de folds para a validação cruzada\n",
    "num_folds = 5\n",
    "\n",
    "# Criar um objeto StratifiedKFold para a validação cruzada estratificada\n",
    "kfold = StratifiedKFold(n_splits=num_folds, shuffle=True, random_state=42)\n",
    "\n",
    "# Lista para armazenar as pontuações de acurácia de cada fold\n",
    "accuracy_scores = []\n",
    "\n",
    "# Realizar a validação cruzada\n",
    "for train_index, test_index in kfold.split(X_ngrams, Y):\n",
    "    X_train, X_test = X_ngrams[train_index], X_ngrams[test_index]\n",
    "    Y_train, Y_test = Y[train_index], Y[test_index]\n",
    "    \n",
    "    # Treinar o modelo CatBoost\n",
    "    catboost.fit(X_train, Y_train)\n",
    "    \n",
    "    # Avaliar o modelo com acurácia\n",
    "    accuracy = catboost.score(X_test, Y_test)\n",
    "    accuracy_scores.append(accuracy)\n",
    "\n",
    "# Exibir as pontuações de acurácia\n",
    "print(\"Acurácia de cada fold:\", accuracy_scores)\n",
    "print(\"Acurácia média:\", sum(accuracy_scores) / len(accuracy_scores))"
   ]
  },
  {
   "cell_type": "code",
   "execution_count": null,
   "metadata": {},
   "outputs": [],
   "source": [
    "#Matriz de confusão\n",
    "\n",
    "cm = confusion_matrix(Y_pred, Y_test)\n",
    "\n",
    "# Plot da matriz de confusão\n",
    "plt.figure(figsize=(8, 6))\n",
    "sns.heatmap(confusion_matrix(Y_test, Y_pred), annot=True, cmap='YlOrBr', fmt='g')\n",
    "\n",
    "# Adicionando legenda\n",
    "plt.text(0.5, 0.2, 'Negativos Verdadeiros', color='black', ha='center', va='center')\n",
    "plt.text(1.5, 0.2, 'Falsos Neutros', color='black', ha='center', va='center')\n",
    "plt.text(2.5, 0.2, 'Falsos Positivos', color='black', ha='center', va='center')\n",
    "\n",
    "plt.text(0.5, 1.2, 'Falsos Negativos', color='black', ha='center', va='center')\n",
    "plt.text(1.5, 1.2, 'Neutros Verdadeiros', color='black', ha='center', va='center')\n",
    "plt.text(2.5, 1.2, 'Falsos Positivos', color='black', ha='center', va='center')\n",
    "\n",
    "plt.text(0.5, 2.2, 'Falsos Negativos', color='black', ha='center', va='center')\n",
    "plt.text(1.5, 2.2, 'Falsos Neutros', color='black', ha='center', va='center')\n",
    "plt.text(2.5, 2.2, 'Positivos Verdadeiros', color='white', ha='center', va='center')\n",
    "\n",
    "# Definindo rótulos dos eixos\n",
    "plt.xlabel('Previsto')\n",
    "plt.ylabel('Verdadeiro')\n",
    "plt.title('Matriz de Confusão')\n",
    "\n",
    "plt.show()"
   ]
  },
  {
   "cell_type": "code",
   "execution_count": null,
   "metadata": {},
   "outputs": [],
   "source": [
    "# Sem validação cruzada \n",
    "\n",
    "# Dividir a base de dados em 80% treinamento, 20% teste/validação\n",
    "X_train, X_test, Y_train, Y_test = train_test_split(X_ngrams, Y, test_size=0.20, random_state=42, stratify=Y)\n",
    "\n",
    "# Criar uma instância do modelo CatBoost\n",
    "catboost = CatBoostClassifier(\n",
    "    task_type=\"GPU\",\n",
    "    devices=\"0\",\n",
    "    learning_rate=0.1,\n",
    "    l2_leaf_reg=5,\n",
    "    verbose=True,\n",
    "    used_ram_limit=\"2gb\",\n",
    "    gpu_ram_part=0.5,\n",
    "    thread_count=2\n",
    "    )  # verbose=0 para suprimir a saída durante o treinamento\n",
    "\n",
    "# Treinar o modelo com os dados de treinamento (80%)\n",
    "catboost.fit(X_train, Y_train)"
   ]
  },
  {
   "cell_type": "code",
   "execution_count": null,
   "metadata": {},
   "outputs": [],
   "source": [
    "# Avaliar o modelo com os dados de teste (20%)\n",
    "Y_test_pred = catboost.predict(X_test)\n",
    "test_accuracy = accuracy_score(Y_test, Y_test_pred)\n",
    "print(\"Acurácia no conjunto de teste:\", test_accuracy)"
   ]
  },
  {
   "cell_type": "code",
   "execution_count": null,
   "metadata": {},
   "outputs": [],
   "source": []
  }
 ],
 "metadata": {
  "kernelspec": {
   "display_name": "ML_venv",
   "language": "python",
   "name": "python3"
  },
  "language_info": {
   "codemirror_mode": {
    "name": "ipython",
    "version": 3
   },
   "file_extension": ".py",
   "mimetype": "text/x-python",
   "name": "python",
   "nbconvert_exporter": "python",
   "pygments_lexer": "ipython3",
   "version": "3.12.2"
  }
 },
 "nbformat": 4,
 "nbformat_minor": 2
}

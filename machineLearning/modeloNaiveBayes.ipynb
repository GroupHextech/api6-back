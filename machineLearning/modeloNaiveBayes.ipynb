{
 "cells": [
  {
   "cell_type": "code",
   "execution_count": 1,
   "id": "d77555d2",
   "metadata": {},
   "outputs": [
    {
     "name": "stderr",
     "output_type": "stream",
     "text": [
      "[nltk_data] Downloading package stopwords to\n",
      "[nltk_data]     C:\\Users\\augus\\AppData\\Roaming\\nltk_data...\n",
      "[nltk_data]   Package stopwords is already up-to-date!\n",
      "[nltk_data] Downloading package punkt to\n",
      "[nltk_data]     C:\\Users\\augus\\AppData\\Roaming\\nltk_data...\n",
      "[nltk_data]   Package punkt is already up-to-date!\n",
      "[nltk_data] Downloading package wordnet to\n",
      "[nltk_data]     C:\\Users\\augus\\AppData\\Roaming\\nltk_data...\n",
      "[nltk_data]   Package wordnet is already up-to-date!\n"
     ]
    },
    {
     "data": {
      "text/plain": [
       "True"
      ]
     },
     "execution_count": 1,
     "metadata": {},
     "output_type": "execute_result"
    }
   ],
   "source": [
    "# Imports necessários\n",
    "import re\n",
    "import string\n",
    "import unicodedata\n",
    "import numpy as np\n",
    "import pandas as pd\n",
    "from tabulate import tabulate\n",
    "from joblib import dump\n",
    "import nltk\n",
    "from nltk.corpus import stopwords\n",
    "from nltk.tokenize import word_tokenize\n",
    "from nltk.stem import WordNetLemmatizer\n",
    "from sklearn.feature_extraction.text import CountVectorizer\n",
    "from sklearn.naive_bayes import MultinomialNB\n",
    "from sklearn.model_selection import train_test_split\n",
    "\n",
    "\n",
    "# Baixa recursos necessários do NLTK\n",
    "nltk.download('stopwords')\n",
    "nltk.download('punkt')\n",
    "nltk.download('wordnet')\n"
   ]
  },
  {
   "cell_type": "code",
   "execution_count": 2,
   "id": "51fe760b",
   "metadata": {},
   "outputs": [
    {
     "name": "stdout",
     "output_type": "stream",
     "text": [
      "Tamanho do dataset original: 132373 \n",
      "\n",
      "Tamanho do dataset alterado: 129098 \n",
      "\n"
     ]
    },
    {
     "name": "stderr",
     "output_type": "stream",
     "text": [
      "C:\\Users\\augus\\AppData\\Local\\Temp\\ipykernel_7048\\3311458984.py:2: DtypeWarning: Columns (2) have mixed types. Specify dtype option on import or set low_memory=False.\n",
      "  dataset = pd.read_csv(\"C:\\\\fatec\\\\B2W-Reviews01\\\\B2W-Reviews01.csv\")\n"
     ]
    }
   ],
   "source": [
    "# Carrega o conjunto de dados\n",
    "dataset = pd.read_csv(\"C:\\\\fatec\\\\B2W-Reviews01\\\\B2W-Reviews01.csv\")\n",
    "\n",
    "# Mostra o tamanho do dataset original\n",
    "print(\"Tamanho do dataset original:\", dataset.shape[0], \"\\n\")\n",
    "\n",
    "# Remove linhas com valores em branco\n",
    "dataset = dataset.dropna(subset=['review_text', 'overall_rating'])\n",
    "\n",
    "# Mostra o tamanho do dataset alterado\n",
    "print(\"Tamanho do dataset alterado:\", dataset.shape[0], \"\\n\")\n"
   ]
  },
  {
   "cell_type": "code",
   "execution_count": 3,
   "id": "2e0dd1d3",
   "metadata": {},
   "outputs": [
    {
     "name": "stdout",
     "output_type": "stream",
     "text": [
      "Primeiros registros do dataset:\n",
      "|    | submission_date     | reviewer_id                                                      |   product_id | product_name                                                                                                                   | product_brand   | site_category_lv1       | site_category_lv2             | review_title                     |   overall_rating | recommend_to_a_friend   | review_text                                                                                                                                                                                                                                                         |   reviewer_birth_year | reviewer_gender   | reviewer_state   | feeling   |\n",
      "|---:|:--------------------|:-----------------------------------------------------------------|-------------:|:-------------------------------------------------------------------------------------------------------------------------------|:----------------|:------------------------|:------------------------------|:---------------------------------|-----------------:|:------------------------|:--------------------------------------------------------------------------------------------------------------------------------------------------------------------------------------------------------------------------------------------------------------------|----------------------:|:------------------|:-----------------|:----------|\n",
      "|  0 | 2018-01-01 00:11:28 | d0fb1ca69422530334178f5c8624aa7a99da47907c44de0243719b15d50623ce |    132532965 | Notebook Asus Vivobook Max X541NA-GO472T Intel Celeron Quad Core 4GB 500GB Tela LED 15,6\" Windows - 10 Branco                  | nan             | Informática             | Notebook                      | Bom                              |                4 | Yes                     | Estou contente com a compra entrega rápida o único problema com as Americanas é se houver troca ou devolução do produto o consumidor tem problemas com espera.                                                                                                      |                  1958 | F                 | RJ               | Positive  |\n",
      "|  1 | 2018-01-01 00:13:48 | 014d6dc5a10aed1ff1e6f349fb2b059a2d3de511c7538a9008da562ead5f5ecd |     22562178 | Copo Acrílico Com Canudo 500ml Rocie                                                                                           | nan             | Utilidades Domésticas   | Copos, Taças e Canecas        | Preço imbatível, ótima qualidade |                4 | Yes                     | Por apenas R$1994.20,eu consegui comprar esse lindo copo de acrílico.                                                                                                                                                                                               |                  1996 | M                 | SC               | Positive  |\n",
      "|  2 | 2018-01-01 00:26:02 | 44f2c8edd93471926fff601274b8b2b5c4824e386ae4f210329b9b71890277fd |    113022329 | Panela de Pressão Elétrica Philips Walita Daily 5L com Timer                                                                   | philips walita  | Eletroportáteis         | Panela Elétrica               | ATENDE TODAS AS EXPECTATIVA.     |                4 | Yes                     | SUPERA EM AGILIDADE E PRATICIDADE OUTRAS PANELAS ELÉTRICAS.  COSTUMO USAR OUTRA PANELA PARA COZIMENTO DE ARROZ (JAPONESA), MAS LEVA MUITO TEMPO,  +/- 50 MINUTOS.  NESSA PANELA  É MUITO MAIS RÁPIDO, EXATAMENTE 6 MINUTOS.    EU RECOMENDO.                        |                  1984 | M                 | SP               | Positive  |\n",
      "|  3 | 2018-01-01 00:35:54 | ce741665c1764ab2d77539e18d0e4f66dde6213c9f0863f165ffedb1e8147984 |    113851581 | Betoneira Columbus - Roma Brinquedos                                                                                           | roma jensen     | Brinquedos              | Veículos de Brinquedo         | presente mais que desejado       |                4 | Yes                     | MEU FILHO AMOU! PARECE DE VERDADE COM TANTOS DETALHES QUE TÊM!                                                                                                                                                                                                      |                  1985 | F                 | SP               | Positive  |\n",
      "|  4 | 2018-01-01 01:00:28 | 7d7b6b18dda804a897359276cef0ca252f9932bf4b5c8e72bce7e88850efa0fc |    131788803 | Smart TV LED 43\" LG 43UJ6525 Ultra HD 4K com Conversor Digital 4 HDMI 2 USB WebOS 3.5 Painel Ips HDR e Magic Mobile Connection | lg              | TV e Home Theater       | TV                            | Sem duvidas, excelente           |                5 | Yes                     | A entrega foi no prazo, as americanas estão de parabéns. A smart tv é muito boa, a navegação na internete e pelos aplicativos e excelente, não trava, sem falar da imagem que é de surpreender. recomendo.                                                          |                  1994 | M                 | MG               | Positive  |\n",
      "|  5 | 2018-01-01 01:27:23 | 28b1844e1cd24dd2288b7cafb052a0b46aed53ab28e1c11632e3a2297a64aad8 |     22562178 | Copo Acrílico Com Canudo 500ml Rocie                                                                                           | nan             | Utilidades Domésticas   | Copos, Taças e Canecas        | Produto imperdível               |                5 | Yes                     | Excelente produto, por fora em material acrílico super resistente e por dentro em adamantio, faz milagre com qualquer bebida. Sugiro aproveitarem a promoção antes que acabe.                                                                                       |                  1979 | M                 | PA               | Positive  |\n",
      "|  6 | 2018-01-01 01:54:38 | 48907a04d70947344017b351e8fc232bfc80dae2c33ac2e1524db127231ac542 |     22562178 | Copo Acrílico Com Canudo 500ml Rocie                                                                                           | nan             | Utilidades Domésticas   | Copos, Taças e Canecas        | ótimo                            |                5 | Yes                     | produto mto bom, com essa garrafinha vc pode até servir água pro megazord. To pensando em vender minha tv pra comprar 1 garrafa dessa. RECOMENDO                                                                                                                    |                   nan | nan               | nan              | Positive  |\n",
      "|  7 | 2018-01-01 01:58:17 | e039cbff059effe12756772b358af4323c2157e9561da88dbdbfb37181179172 |    132444092 | Smartphone Motorola Moto G 5S Dual Chip Android 7.1.1 Nougat Tela 5.2\" Snapdragon 430 32GB 4G Câmera 16MP - Platinum           | nan             | Celulares e Smartphones | Smartphone                    | Gostei bastante do produto       |                4 | Yes                     | Produto excelente qualidade boa câmera desenvolvimento do Android com rapidez                                                                                                                                                                                       |                  1987 | M                 | GO               | Positive  |\n",
      "|  8 | 2018-01-01 02:02:13 | a0fd1ad35b08d3b764ad6f884ef7183bf29fc7ebfcae65964d7e9c200e3c9335 |    122776350 | Ventilador de Teto Ventisol Fenix Premium Branco 3 velocidades com Controle Remoto                                             | ventisol        | Casa e Construção       | Climatização                  | Gostei do produto                |                5 | Yes                     | O barulho e minimo e o vento é bem forte na velocidade 2                                                                                                                                                                                                            |                  1987 | M                 | SP               | Positive  |\n",
      "|  9 | 2018-01-01 02:16:06 | eb1cceab541aac33c21f2c2503b8a529d07a9837f8eec7f2d227520e754cd405 |     23474928 | Kit 10 Peças Fita Led 12v 5050 300 Leds Rgb + Fonte                                                                            | nan             | Casa e Construção       | Iluminação                    | NÃO RECEBI O PRODUTO             |                1 | No                      | MEU PRODUTO NAO FOI ENTREGUE E A AMERICANAS ESTA DESCONTANDO NA FATURA DO MEU CARTÃO                                                                                                                                                                                |                  1984 | M                 | RJ               | Negative  |\n",
      "| 10 | 2018-01-01 02:54:14 | 3faead0bd5bb48ea5c7f82d5f3467a7a7cdcd55391e4981a6007b65cd20ceff3 |     22562178 | Copo Acrílico Com Canudo 500ml Rocie                                                                                           | nan             | Utilidades Domésticas   | Copos, Taças e Canecas        | Fantástico                       |                5 | Yes                     | Comprei um pra cara membro da família nesse natal@!!!!                                                                                                                                                                                                              |                   nan | nan               | nan              | Positive  |\n",
      "| 11 | 2018-01-01 03:06:04 | 74cfe73e7489f0ed1f4d1f012efbc5a8e0958c3559b65d4630f59ab9fce9a17e |    126474851 | Aspirador de Pó Philco Rapid 1000N Vermelho/Preto - 1000W                                                                      | philco          | Eletroportáteis         | Aspirador e Vassoura Elétrica | Maravilhoso!!!                   |                5 | Yes                     | Produto maravilhoso! Não é barulhento, fácil manuseio, tranquilo de montar e desmontar, entrega antes do prazo mesmo se tratando de época do Natal. Americanas de parabéns e o produto muito bom. Recomendo com força.                                              |                  1967 | F                 | RJ               | Positive  |\n",
      "| 12 | 2018-01-01 03:32:47 | 0caab33faedce9bfcb6fb0bd68b0ee8ce48860fa295d3f6f5699163e310fa3df |     29302228 | Conjunto de Panelas Antiaderente Turim 10 Peças Vermelha Tramontina                                                            | nan             | Utilidades Domésticas   | Panelas                       | Amei o produto                   |                5 | No                      | Jogo de panelas excelente material, entrega a tempo, design muito bom.                                                                                                                                                                                              |                   nan | nan               | nan              | Positive  |\n",
      "| 13 | 2018-01-01 03:35:48 | 1c1d746a5a1b9d0780d0dc0038d827f11658baf703e3fd1218db0edec3b04134 |    132444050 | Smartphone Motorola Moto G 5S Dual Chip Android 7.1.1 Nougat Tela 5.2\" Snapdragon 430 32GB 4G Câmera 16MP - Dourado            | nan             | Celulares e Smartphones | Smartphone                    | Revoltado                        |                1 | No                      | Esse celular não vale nada a bateria não vale nada descarrega sozinha quando estar usando esquenta tanto que faz medo espludi foi a pior compra da minha vida se eu tivesse condições quebrava ele em mil pedaços e comprava outro de qualquer marca menos Motorola |                  1970 | M                 | BA               | Negative  |\n",
      "| 14 | 2018-01-01 03:59:57 | b47d9ca2cafe181ebcdd6f7e085e4354e566bd0115fa21101037a120c205aad0 |     24717741 | Tênis Casual Conforto Beira Rio                                                                                                | nan             | Moda                    | Feminino                      | satisfeito                       |                5 | Yes                     | produto de acordo com o que eu esperava. Somente o prazo de entrega que ficou um pouco a desejar, um pouco longo                                                                                                                                                    |                  1961 | M                 | SP               | Positive  |\n",
      "| 15 | 2018-01-01 04:03:27 | 7c057e5502616bfedf0253c9a1df3945e4779ec836ea6b8b6fbddae82b5b93e9 |     16804573 | Mochila Sport Escolar Camping Trilha Viagem Passeio                                                                            | nan             | Malas e Acessórios      | Mochilas                      | o zipe                           |                2 | No                      | a mochila nao esta fechando direito por isso nao recomendo se meu filho nao tivesse deixado suja ia devolver                                                                                                                                                        |                  1976 | M                 | RJ               | Negative  |\n",
      "| 16 | 2018-01-01 04:09:40 | c594d4f3ee6220b9a522a985a52ac990c2123287877205f9e17f294f19738e09 |     11491071 | Toldo Versátil Artplas 120x60cm Branco E Cristal                                                                               | nan             | Móveis                  | Puff e Tamborete              | Condizente com o anúncio         |                4 | Yes                     | Produto condizente com o anúncio, com material de boa qualidade, fácil instalação, montagem e preço de acordo com a necessidade de cada um...                                                                                                                       |                  1973 | M                 | SP               | Positive  |\n",
      "| 17 | 2018-01-01 04:11:35 | bcbf1fc81b0cbc699349864ddf265e7433cea4d4851d2626d3c21f36417ec878 |    132381802 | Smart TV LED 65\" Samsung 65MU6100 UHD 4K HDR Premium com Conversor Digital 3 HDMI 2 USB 120Hz                                  | nan             | TV e Home Theater       | TV                            | muito bom                        |                4 | Yes                     | nao tenho nada a reclamar, bom atendimento e entrega dentro do combinado.                                                                                                                                                                                           |                  1950 | M                 | SP               | Positive  |\n",
      "| 18 | 2018-01-01 04:12:32 | 6fb7f311f44940ce39ffd38e6f377818920643950d100194ee097cead11f8141 |     16161591 | Barra De Cereal Nestlé Banana, Aveia E Mel 60g 3 Unidades                                                                      | nan             | Alimentos e Bebidas     | Barra de Cereais              | muito bom                        |                4 | Yes                     | Até agora os produtos que eu comprei foram entregue certo. Obrigado que continua assim.                                                                                                                                                                             |                  1980 | M                 | SP               | Positive  |\n",
      "| 19 | 2018-01-01 04:24:12 | 5366bb0e7ee5808a78dce8602122c5a01bbee5b66c9af91a145b96d5bc0d6e9e |     26936514 | Capa Protetora Toyota Corola Com Cadeado                                                                                       | nan             | Automotivo              | Capas para Carro              | Vou usa-la                       |                3 | Yes                     | A capa não decepcionou por enquanto, mas a bolsa para guarda ou transporte é extremamente frágil, na abertura para conferência já rasgou toda a volta junto ao fecho. Péssima impressão, terei que guarda-la noutra embalagem. Uma pena!!!!!                        |                  1953 | M                 | RS               | Neutral   |\n"
     ]
    }
   ],
   "source": [
    "# Cria uma nova coluna para classificar entre comentários positivos, negativos ou neutros com base na nota:\n",
    "dataset['feeling'] = np.where(dataset['overall_rating'] < 3, 'Negative', np.where(dataset['overall_rating'] == 3, 'Neutral', 'Positive'))\n",
    "\n",
    "# Mostra os primeiros registros do dataset\n",
    "print(\"Primeiros registros do dataset:\")\n",
    "print(tabulate(dataset.head(20), headers='keys', tablefmt='pipe'))\n"
   ]
  },
  {
   "cell_type": "code",
   "execution_count": 4,
   "id": "1d7feff9",
   "metadata": {},
   "outputs": [
    {
     "name": "stdout",
     "output_type": "stream",
     "text": [
      "\n",
      "Dataset após pré-processamento:\n",
      "|    | submission_date     | reviewer_id                                                      |   product_id | product_name                                                                                                                   | product_brand   | site_category_lv1       | site_category_lv2             | review_title                     |   overall_rating | recommend_to_a_friend   | review_text                                                                                                                                                                                        |   reviewer_birth_year | reviewer_gender   | reviewer_state   | feeling   |\n",
      "|---:|:--------------------|:-----------------------------------------------------------------|-------------:|:-------------------------------------------------------------------------------------------------------------------------------|:----------------|:------------------------|:------------------------------|:---------------------------------|-----------------:|:------------------------|:---------------------------------------------------------------------------------------------------------------------------------------------------------------------------------------------------|----------------------:|:------------------|:-----------------|:----------|\n",
      "|  0 | 2018-01-01 00:11:28 | d0fb1ca69422530334178f5c8624aa7a99da47907c44de0243719b15d50623ce |    132532965 | Notebook Asus Vivobook Max X541NA-GO472T Intel Celeron Quad Core 4GB 500GB Tela LED 15,6\" Windows - 10 Branco                  | nan             | Informática             | Notebook                      | Bom                              |                4 | Yes                     | contente compra entrega rapida unico problema americana troca devolucao produto consumidor problemas espera                                                                                        |                  1958 | F                 | RJ               | Positive  |\n",
      "|  1 | 2018-01-01 00:13:48 | 014d6dc5a10aed1ff1e6f349fb2b059a2d3de511c7538a9008da562ead5f5ecd |     22562178 | Copo Acrílico Com Canudo 500ml Rocie                                                                                           | nan             | Utilidades Domésticas   | Copos, Taças e Canecas        | Preço imbatível, ótima qualidade |                4 | Yes                     | apenas reu consegui comprar lindo copo acrilico                                                                                                                                                    |                  1996 | M                 | SC               | Positive  |\n",
      "|  2 | 2018-01-01 00:26:02 | 44f2c8edd93471926fff601274b8b2b5c4824e386ae4f210329b9b71890277fd |    113022329 | Panela de Pressão Elétrica Philips Walita Daily 5L com Timer                                                                   | philips walita  | Eletroportáteis         | Panela Elétrica               | ATENDE TODAS AS EXPECTATIVA.     |                4 | Yes                     | supera agilidade praticidade outras panelas eletricas costumo usar outra panela cozimento arroz japonesa lev tempo minutos nessa panela rapido exatamente minutos recomendo                        |                  1984 | M                 | SP               | Positive  |\n",
      "|  3 | 2018-01-01 00:35:54 | ce741665c1764ab2d77539e18d0e4f66dde6213c9f0863f165ffedb1e8147984 |    113851581 | Betoneira Columbus - Roma Brinquedos                                                                                           | roma jensen     | Brinquedos              | Veículos de Brinquedo         | presente mais que desejado       |                4 | Yes                     | filho amou parece verdade tantos detalhes                                                                                                                                                          |                  1985 | F                 | SP               | Positive  |\n",
      "|  4 | 2018-01-01 01:00:28 | 7d7b6b18dda804a897359276cef0ca252f9932bf4b5c8e72bce7e88850efa0fc |    131788803 | Smart TV LED 43\" LG 43UJ6525 Ultra HD 4K com Conversor Digital 4 HDMI 2 USB WebOS 3.5 Painel Ips HDR e Magic Mobile Connection | lg              | TV e Home Theater       | TV                            | Sem duvidas, excelente           |                5 | Yes                     | entrega prazo americana estao parabens smart tv boa navegacao internete aplicativos excelente nao trava falar imagem surpreender recomendo                                                         |                  1994 | M                 | MG               | Positive  |\n",
      "|  5 | 2018-01-01 01:27:23 | 28b1844e1cd24dd2288b7cafb052a0b46aed53ab28e1c11632e3a2297a64aad8 |     22562178 | Copo Acrílico Com Canudo 500ml Rocie                                                                                           | nan             | Utilidades Domésticas   | Copos, Taças e Canecas        | Produto imperdível               |                5 | Yes                     | excelente produto material acrilico super resistente dentro adamantio faz milagre qualquer bebida sugiro aproveitarem promocao ante acabe                                                          |                  1979 | M                 | PA               | Positive  |\n",
      "|  6 | 2018-01-01 01:54:38 | 48907a04d70947344017b351e8fc232bfc80dae2c33ac2e1524db127231ac542 |     22562178 | Copo Acrílico Com Canudo 500ml Rocie                                                                                           | nan             | Utilidades Domésticas   | Copos, Taças e Canecas        | ótimo                            |                5 | Yes                     | produto mto bom garrafinha vc pode ate servir agua pro megazord to pensando vender tv pra comprar garrafa dessa recomendo                                                                          |                   nan | nan               | nan              | Positive  |\n",
      "|  7 | 2018-01-01 01:58:17 | e039cbff059effe12756772b358af4323c2157e9561da88dbdbfb37181179172 |    132444092 | Smartphone Motorola Moto G 5S Dual Chip Android 7.1.1 Nougat Tela 5.2\" Snapdragon 430 32GB 4G Câmera 16MP - Platinum           | nan             | Celulares e Smartphones | Smartphone                    | Gostei bastante do produto       |                4 | Yes                     | produto excelente qualidade boa camera desenvolvimento android rapidez                                                                                                                             |                  1987 | M                 | GO               | Positive  |\n",
      "|  8 | 2018-01-01 02:02:13 | a0fd1ad35b08d3b764ad6f884ef7183bf29fc7ebfcae65964d7e9c200e3c9335 |    122776350 | Ventilador de Teto Ventisol Fenix Premium Branco 3 velocidades com Controle Remoto                                             | ventisol        | Casa e Construção       | Climatização                  | Gostei do produto                |                5 | Yes                     | barulho minimo vento bem forte velocidade                                                                                                                                                          |                  1987 | M                 | SP               | Positive  |\n",
      "|  9 | 2018-01-01 02:16:06 | eb1cceab541aac33c21f2c2503b8a529d07a9837f8eec7f2d227520e754cd405 |     23474928 | Kit 10 Peças Fita Led 12v 5050 300 Leds Rgb + Fonte                                                                            | nan             | Casa e Construção       | Iluminação                    | NÃO RECEBI O PRODUTO             |                1 | No                      | produto nao entregue americana descontando fatura cartao                                                                                                                                           |                  1984 | M                 | RJ               | Negative  |\n",
      "| 10 | 2018-01-01 02:54:14 | 3faead0bd5bb48ea5c7f82d5f3467a7a7cdcd55391e4981a6007b65cd20ceff3 |     22562178 | Copo Acrílico Com Canudo 500ml Rocie                                                                                           | nan             | Utilidades Domésticas   | Copos, Taças e Canecas        | Fantástico                       |                5 | Yes                     | comprei pra cara membro familia nesse natal                                                                                                                                                        |                   nan | nan               | nan              | Positive  |\n",
      "| 11 | 2018-01-01 03:06:04 | 74cfe73e7489f0ed1f4d1f012efbc5a8e0958c3559b65d4630f59ab9fce9a17e |    126474851 | Aspirador de Pó Philco Rapid 1000N Vermelho/Preto - 1000W                                                                      | philco          | Eletroportáteis         | Aspirador e Vassoura Elétrica | Maravilhoso!!!                   |                5 | Yes                     | produto maravilhoso nao barulhento facil manuseio tranquilo montar desmontar entrega ante prazo tratando epoca natal americana parabens produto bom recomendo forca                                |                  1967 | F                 | RJ               | Positive  |\n",
      "| 12 | 2018-01-01 03:32:47 | 0caab33faedce9bfcb6fb0bd68b0ee8ce48860fa295d3f6f5699163e310fa3df |     29302228 | Conjunto de Panelas Antiaderente Turim 10 Peças Vermelha Tramontina                                                            | nan             | Utilidades Domésticas   | Panelas                       | Amei o produto                   |                5 | No                      | jogo panelas excelente material entrega tempo design bom                                                                                                                                           |                   nan | nan               | nan              | Positive  |\n",
      "| 13 | 2018-01-01 03:35:48 | 1c1d746a5a1b9d0780d0dc0038d827f11658baf703e3fd1218db0edec3b04134 |    132444050 | Smartphone Motorola Moto G 5S Dual Chip Android 7.1.1 Nougat Tela 5.2\" Snapdragon 430 32GB 4G Câmera 16MP - Dourado            | nan             | Celulares e Smartphones | Smartphone                    | Revoltado                        |                1 | No                      | celular nao vale nada bateria nao vale nada descarrega sozinha usando esquenta tanto faz medo espludi pior compra vida condicoes quebrava mil pedacos comprava outro qualquer marca menos motorola |                  1970 | M                 | BA               | Negative  |\n",
      "| 14 | 2018-01-01 03:59:57 | b47d9ca2cafe181ebcdd6f7e085e4354e566bd0115fa21101037a120c205aad0 |     24717741 | Tênis Casual Conforto Beira Rio                                                                                                | nan             | Moda                    | Feminino                      | satisfeito                       |                5 | Yes                     | produto acordo esperava somente prazo entrega ficou pouco desejar pouco longo                                                                                                                      |                  1961 | M                 | SP               | Positive  |\n",
      "| 15 | 2018-01-01 04:03:27 | 7c057e5502616bfedf0253c9a1df3945e4779ec836ea6b8b6fbddae82b5b93e9 |     16804573 | Mochila Sport Escolar Camping Trilha Viagem Passeio                                                                            | nan             | Malas e Acessórios      | Mochilas                      | o zipe                           |                2 | No                      | mochila nao fechando direito nao recomendo filho nao deixado suja ia devolver                                                                                                                      |                  1976 | M                 | RJ               | Negative  |\n",
      "| 16 | 2018-01-01 04:09:40 | c594d4f3ee6220b9a522a985a52ac990c2123287877205f9e17f294f19738e09 |     11491071 | Toldo Versátil Artplas 120x60cm Branco E Cristal                                                                               | nan             | Móveis                  | Puff e Tamborete              | Condizente com o anúncio         |                4 | Yes                     | produto condizente anuncio material boa qualidade facil instalacao montagem preco acordo necessidade cada                                                                                          |                  1973 | M                 | SP               | Positive  |\n",
      "| 17 | 2018-01-01 04:11:35 | bcbf1fc81b0cbc699349864ddf265e7433cea4d4851d2626d3c21f36417ec878 |    132381802 | Smart TV LED 65\" Samsung 65MU6100 UHD 4K HDR Premium com Conversor Digital 3 HDMI 2 USB 120Hz                                  | nan             | TV e Home Theater       | TV                            | muito bom                        |                4 | Yes                     | nao nada reclamar bom atendimento entrega dentro combinado                                                                                                                                         |                  1950 | M                 | SP               | Positive  |\n",
      "| 18 | 2018-01-01 04:12:32 | 6fb7f311f44940ce39ffd38e6f377818920643950d100194ee097cead11f8141 |     16161591 | Barra De Cereal Nestlé Banana, Aveia E Mel 60g 3 Unidades                                                                      | nan             | Alimentos e Bebidas     | Barra de Cereais              | muito bom                        |                4 | Yes                     | ate agora produtos comprei entregue certo obrigado continuum assim                                                                                                                                 |                  1980 | M                 | SP               | Positive  |\n",
      "| 19 | 2018-01-01 04:24:12 | 5366bb0e7ee5808a78dce8602122c5a01bbee5b66c9af91a145b96d5bc0d6e9e |     26936514 | Capa Protetora Toyota Corola Com Cadeado                                                                                       | nan             | Automotivo              | Capas para Carro              | Vou usa-la                       |                3 | Yes                     | capa nao decepcionou enquanto bolsa guarda transporte extremamente fragil abertura conferencia ja rasgou toda volta junto fecho pessima impressao guardala noutra embalagem pena                   |                  1953 | M                 | RS               | Neutral   |\n"
     ]
    }
   ],
   "source": [
    "# Pré-processamento dos dados\n",
    "lemmatizer = WordNetLemmatizer()\n",
    "stop_words = set(stopwords.words('portuguese'))\n",
    "\n",
    "preprocessed_texts = []  # Lista para armazenar os textos pré-processados\n",
    "\n",
    "# Itera sobre cada texto no dataset para pré-processamento\n",
    "for text in dataset['review_text']:\n",
    "    if isinstance(text, str):  # Verifica se o texto é uma string\n",
    "        # Converter para minúsculas\n",
    "        text = text.lower()\n",
    "        # Remover acentos\n",
    "        text = ''.join(char for char in unicodedata.normalize('NFKD', text) if unicodedata.category(char) != 'Mn')\n",
    "        # Remover números usando expressão regular\n",
    "        text = re.sub(r'\\d+', '', text)\n",
    "        # Remover caracteres especiais (incluindo emojis)\n",
    "        text = re.sub(r'[^\\w\\s]', '', text)\n",
    "        # Remover pontuação\n",
    "        text = text.translate(str.maketrans('', '', string.punctuation))\n",
    "        # Remover espaços extras\n",
    "        text = re.sub(r'\\s+', ' ', text).strip()\n",
    "        # Tokenização\n",
    "        tokens = word_tokenize(text)\n",
    "        # Lematização e remoção de stopwords\n",
    "        tokens = [lemmatizer.lemmatize(word) for word in tokens if word.isalpha() and word.lower() not in stop_words]\n",
    "        # Juntar tokens em texto novamente\n",
    "        preprocessed_text = ' '.join(tokens)\n",
    "        preprocessed_texts.append(preprocessed_text)  # Adicionar texto pré-processado à lista\n",
    "    else:\n",
    "        preprocessed_texts.append(\"\")\n",
    "\n",
    "# Atualiza o DataFrame com os textos pré-processados\n",
    "dataset['review_text'] = preprocessed_texts\n",
    "\n",
    "# Mostra o dataset após o pré-processamento\n",
    "print(\"\\nDataset após pré-processamento:\")\n",
    "print(tabulate(dataset.head(20), headers='keys', tablefmt='pipe'))\n"
   ]
  },
  {
   "cell_type": "code",
   "execution_count": 5,
   "id": "a578a88a",
   "metadata": {},
   "outputs": [
    {
     "name": "stdout",
     "output_type": "stream",
     "text": [
      "Acurácia: 0.8237800154918667\n"
     ]
    }
   ],
   "source": [
    "# Separar os dados em features (X) e target (Y)\n",
    "X = dataset['review_text'].values\n",
    "Y = dataset['feeling'].values\n",
    "\n",
    "# Criar um objeto CountVectorizer com N-grams\n",
    "ngram_vectorizer = CountVectorizer(ngram_range=(1, 3))  # Considera unigramas, bigramas e trigramas\n",
    "\n",
    "# Vetorizar os dados de texto com N-grams\n",
    "X_ngrams = ngram_vectorizer.fit_transform(X)\n",
    "\n",
    "# Dividir os dados em conjunto de treinamento e teste\n",
    "X_train, X_test, Y_train, Y_test = train_test_split(X_ngrams, Y, test_size=0.2, random_state=42)\n",
    "\n",
    "# Criar e treinar o modelo Naive Bayes com os dados vetorizados com N-grams\n",
    "model_ngrams = MultinomialNB()\n",
    "model_ngrams.fit(X_train, Y_train)\n",
    "\n",
    "# Avaliar o modelo com N-grams\n",
    "accuracy_ngrams = model_ngrams.score(X_test, Y_test)\n",
    "print(\"Acurácia:\", accuracy_ngrams)\n"
   ]
  },
  {
   "cell_type": "code",
   "execution_count": 6,
   "id": "5565ee73",
   "metadata": {},
   "outputs": [
    {
     "name": "stdout",
     "output_type": "stream",
     "text": [
      "\n",
      "Resultados de 'feeling' após o treinamento do modelo:\n",
      "   Feeling_Predicted Feeling_True\n",
      "0           Positive     Positive\n",
      "1           Positive     Positive\n",
      "2           Positive      Neutral\n",
      "3           Negative     Negative\n",
      "4           Negative     Positive\n",
      "5           Positive     Positive\n",
      "6           Positive     Negative\n",
      "7           Positive      Neutral\n",
      "8           Positive     Positive\n",
      "9           Positive     Positive\n",
      "10          Positive     Positive\n",
      "11          Positive     Positive\n",
      "12          Positive     Positive\n",
      "13          Negative     Negative\n",
      "14          Positive     Positive\n",
      "15          Positive     Positive\n",
      "16          Positive     Positive\n",
      "17          Positive     Positive\n",
      "18          Positive      Neutral\n",
      "19          Positive     Positive\n"
     ]
    }
   ],
   "source": [
    "# Prever as classes para os dados de teste\n",
    "Y_pred = model_ngrams.predict(X_test)\n",
    "\n",
    "# Criar um DataFrame com as previsões e as verdadeiras classes de \"feeling\"\n",
    "df_results = pd.DataFrame({'Feeling_Predicted': Y_pred, 'Feeling_True': Y_test})\n",
    "\n",
    "# Mostrar os resultados\n",
    "print(\"\\nResultados de 'feeling' após o treinamento do modelo:\")\n",
    "print(df_results.head(20))  # Exibir os 20 primeiros registros\n"
   ]
  },
  {
   "cell_type": "code",
   "execution_count": 7,
   "id": "a2e305d1",
   "metadata": {},
   "outputs": [
    {
     "data": {
      "text/plain": [
       "['modelo_naive_bayes.joblib']"
      ]
     },
     "execution_count": 7,
     "metadata": {},
     "output_type": "execute_result"
    }
   ],
   "source": [
    "# Salvar o modelo e o vetorizador em um único arquivo, no mesmo diretório deste notebook\n",
    "dump((model_ngrams, ngram_vectorizer), 'modelo_naive_bayes.joblib')\n"
   ]
  }
 ],
 "metadata": {
  "kernelspec": {
   "display_name": "ML_PI",
   "language": "python",
   "name": "python3"
  },
  "language_info": {
   "codemirror_mode": {
    "name": "ipython",
    "version": 3
   },
   "file_extension": ".py",
   "mimetype": "text/x-python",
   "name": "python",
   "nbconvert_exporter": "python",
   "pygments_lexer": "ipython3",
   "version": "3.12.3"
  }
 },
 "nbformat": 4,
 "nbformat_minor": 5
}

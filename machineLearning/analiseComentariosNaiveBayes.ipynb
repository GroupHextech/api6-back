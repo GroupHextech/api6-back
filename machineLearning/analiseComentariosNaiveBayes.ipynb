{
 "cells": [
  {
   "cell_type": "markdown",
   "id": "d0dca056",
   "metadata": {},
   "source": [
    "## Análise de sentimentos com algoritmo Naive Bayes\n",
    "\n",
    "Este código demonstra a aplicação do algoritmo Naive Bayes em um projeto de análise de sentimentos. Foram utilizadas as bibliotecas pandas, numpy, tabulate, sklearn (CountVectorizer e MultinomialNB) e joblib para persistir o modelo treinado. O objetivo é classificar comentários de produtos como positivos ou negativos com base em sua pontuação geral e no texto do comentário, sendo comentários com nota maior ou igual a 3 considerados positivos, e abaixo disso negativos.\n",
    "\n",
    "O algoritmo Naive Bayes é um método de classificação probabilístico simples, baseado no teorema de Bayes, com uma suposição \"ingênua\" de independência entre os recursos. Ele é frequentemente utilizado em problemas de análise de sentimentos e classificação de textos. Na prática, o algoritmo calcula a probabilidade de um comentário ser positivo ou negativo com base nas palavras presentes nele, assumindo que a presença de cada palavra é independente das outras (daí o \"ingênuo\").\n",
    "\n",
    "O código carrega um conjunto de dados de avaliações de produtos, remove linhas com dados ausentes, cria uma nova coluna de classificação com base na pontuação geral e nos separa os comentários e suas classes. Em seguida, ele utiliza a classe CountVectorizer para converter os comentários em vetores de contagem de palavras. A vetorização de palavras é o processo de transformar textos em representações numéricas que possam ser usadas por algoritmos de aprendizado de máquina. No contexto do Naive Bayes para análise de sentimentos, a vetorização de palavras geralmente envolve a criação de um vocabulário com todas as palavras únicas nos textos e, em seguida, a contagem de quantas vezes cada palavra aparece em cada texto. Isso resulta em uma matriz em que cada linha representa um texto e cada coluna representa uma palavra do vocabulário, com os valores indicando a frequência de cada palavra no texto.\n",
    "\n",
    "Os termos frequentes são avaliados com base em sua presença e frequência nos textos. No contexto da análise de sentimentos, palavras que aparecem com frequência em comentários positivos podem ser consideradas como indicativas de sentimentos positivos, enquanto palavras que aparecem com frequência em comentários negativos podem ser consideradas como indicativas de sentimentos negativos. O Naive Bayes utiliza essas frequências para calcular a probabilidade de um texto pertencer a uma determinada classe (positiva ou negativa), levando em conta a frequência de cada palavra no texto e a frequência das palavras em cada classe.\n",
    "\n",
    "Em seguida, os vetores de contagem de palavras são usados para treinar um modelo Multinomial Naive Bayes. Esse modelo é então salvo em um arquivo para uso futuro.\n",
    "\n",
    "Para testar o modelo, são fornecidos alguns comentários de teste que são transformados em vetores de contagem de palavras e passados para o modelo carregado, que faz previsões sobre se os comentários são positivos ou negativos. O resultado das previsões é então exibido no console."
   ]
  },
  {
   "cell_type": "code",
   "execution_count": 2,
   "id": "d77555d2",
   "metadata": {},
   "outputs": [
    {
     "name": "stderr",
     "output_type": "stream",
     "text": [
      "[nltk_data] Downloading package stopwords to\n",
      "[nltk_data]     C:\\Users\\augus\\AppData\\Roaming\\nltk_data...\n",
      "[nltk_data]   Package stopwords is already up-to-date!\n",
      "[nltk_data] Downloading package punkt to\n",
      "[nltk_data]     C:\\Users\\augus\\AppData\\Roaming\\nltk_data...\n",
      "[nltk_data]   Package punkt is already up-to-date!\n",
      "[nltk_data] Downloading package wordnet to\n",
      "[nltk_data]     C:\\Users\\augus\\AppData\\Roaming\\nltk_data...\n",
      "[nltk_data]   Package wordnet is already up-to-date!\n"
     ]
    },
    {
     "data": {
      "text/plain": [
       "True"
      ]
     },
     "execution_count": 2,
     "metadata": {},
     "output_type": "execute_result"
    }
   ],
   "source": [
    "# Imports necessários\n",
    "import re\n",
    "import string\n",
    "import unicodedata\n",
    "import numpy as np\n",
    "import pandas as pd\n",
    "from tabulate import tabulate\n",
    "from joblib import dump, load\n",
    "import nltk\n",
    "from nltk.corpus import stopwords\n",
    "from nltk.tokenize import word_tokenize\n",
    "from nltk.stem import WordNetLemmatizer\n",
    "from sklearn.feature_extraction.text import CountVectorizer\n",
    "from sklearn.naive_bayes import MultinomialNB\n",
    "from sklearn.model_selection import train_test_split\n",
    "\n",
    "# Baixa recursos necessários do NLTK\n",
    "nltk.download('stopwords')\n",
    "nltk.download('punkt')\n",
    "nltk.download('wordnet')\n"
   ]
  },
  {
   "cell_type": "code",
   "execution_count": 3,
   "id": "51fe760b",
   "metadata": {},
   "outputs": [
    {
     "name": "stdout",
     "output_type": "stream",
     "text": [
      "Tamanho do dataset original: 132373 \n",
      "\n",
      "Tamanho do dataset alterado: 129098 \n",
      "\n"
     ]
    }
   ],
   "source": [
    "# Carrega o conjunto de dados\n",
    "dataset = pd.read_csv(\"C:\\\\fatec\\\\B2W-Reviews01\\\\B2W-Reviews01.csv\", usecols=['overall_rating', 'review_text'])\n",
    "\n",
    "# Mostra o tamanho do dataset original\n",
    "print(\"Tamanho do dataset original:\", dataset.shape[0], \"\\n\")\n",
    "\n",
    "# Remove linhas com valores em branco\n",
    "dataset = dataset.dropna(subset=['review_text', 'overall_rating'])\n",
    "\n",
    "# Mostra o tamanho do dataset alterado\n",
    "print(\"Tamanho do dataset alterado:\", dataset.shape[0], \"\\n\")\n"
   ]
  },
  {
   "cell_type": "code",
   "execution_count": 4,
   "id": "2e0dd1d3",
   "metadata": {},
   "outputs": [
    {
     "name": "stdout",
     "output_type": "stream",
     "text": [
      "Primeiros registros do dataset:\n",
      "|    |   overall_rating | review_text                                                                                                                                                                                                                                                         | feeling   |\n",
      "|---:|-----------------:|:--------------------------------------------------------------------------------------------------------------------------------------------------------------------------------------------------------------------------------------------------------------------|:----------|\n",
      "|  0 |                4 | Estou contente com a compra entrega rápida o único problema com as Americanas é se houver troca ou devolução do produto o consumidor tem problemas com espera.                                                                                                      | Positive  |\n",
      "|  1 |                4 | Por apenas R$1994.20,eu consegui comprar esse lindo copo de acrílico.                                                                                                                                                                                               | Positive  |\n",
      "|  2 |                4 | SUPERA EM AGILIDADE E PRATICIDADE OUTRAS PANELAS ELÉTRICAS.  COSTUMO USAR OUTRA PANELA PARA COZIMENTO DE ARROZ (JAPONESA), MAS LEVA MUITO TEMPO,  +/- 50 MINUTOS.  NESSA PANELA  É MUITO MAIS RÁPIDO, EXATAMENTE 6 MINUTOS.    EU RECOMENDO.                        | Positive  |\n",
      "|  3 |                4 | MEU FILHO AMOU! PARECE DE VERDADE COM TANTOS DETALHES QUE TÊM!                                                                                                                                                                                                      | Positive  |\n",
      "|  4 |                5 | A entrega foi no prazo, as americanas estão de parabéns. A smart tv é muito boa, a navegação na internete e pelos aplicativos e excelente, não trava, sem falar da imagem que é de surpreender. recomendo.                                                          | Positive  |\n",
      "|  5 |                5 | Excelente produto, por fora em material acrílico super resistente e por dentro em adamantio, faz milagre com qualquer bebida. Sugiro aproveitarem a promoção antes que acabe.                                                                                       | Positive  |\n",
      "|  6 |                5 | produto mto bom, com essa garrafinha vc pode até servir água pro megazord. To pensando em vender minha tv pra comprar 1 garrafa dessa. RECOMENDO                                                                                                                    | Positive  |\n",
      "|  7 |                4 | Produto excelente qualidade boa câmera desenvolvimento do Android com rapidez                                                                                                                                                                                       | Positive  |\n",
      "|  8 |                5 | O barulho e minimo e o vento é bem forte na velocidade 2                                                                                                                                                                                                            | Positive  |\n",
      "|  9 |                1 | MEU PRODUTO NAO FOI ENTREGUE E A AMERICANAS ESTA DESCONTANDO NA FATURA DO MEU CARTÃO                                                                                                                                                                                | Negative  |\n",
      "| 10 |                5 | Comprei um pra cara membro da família nesse natal@!!!!                                                                                                                                                                                                              | Positive  |\n",
      "| 11 |                5 | Produto maravilhoso! Não é barulhento, fácil manuseio, tranquilo de montar e desmontar, entrega antes do prazo mesmo se tratando de época do Natal. Americanas de parabéns e o produto muito bom. Recomendo com força.                                              | Positive  |\n",
      "| 12 |                5 | Jogo de panelas excelente material, entrega a tempo, design muito bom.                                                                                                                                                                                              | Positive  |\n",
      "| 13 |                1 | Esse celular não vale nada a bateria não vale nada descarrega sozinha quando estar usando esquenta tanto que faz medo espludi foi a pior compra da minha vida se eu tivesse condições quebrava ele em mil pedaços e comprava outro de qualquer marca menos Motorola | Negative  |\n",
      "| 14 |                5 | produto de acordo com o que eu esperava. Somente o prazo de entrega que ficou um pouco a desejar, um pouco longo                                                                                                                                                    | Positive  |\n",
      "| 15 |                2 | a mochila nao esta fechando direito por isso nao recomendo se meu filho nao tivesse deixado suja ia devolver                                                                                                                                                        | Negative  |\n",
      "| 16 |                4 | Produto condizente com o anúncio, com material de boa qualidade, fácil instalação, montagem e preço de acordo com a necessidade de cada um...                                                                                                                       | Positive  |\n",
      "| 17 |                4 | nao tenho nada a reclamar, bom atendimento e entrega dentro do combinado.                                                                                                                                                                                           | Positive  |\n",
      "| 18 |                4 | Até agora os produtos que eu comprei foram entregue certo. Obrigado que continua assim.                                                                                                                                                                             | Positive  |\n",
      "| 19 |                3 | A capa não decepcionou por enquanto, mas a bolsa para guarda ou transporte é extremamente frágil, na abertura para conferência já rasgou toda a volta junto ao fecho. Péssima impressão, terei que guarda-la noutra embalagem. Uma pena!!!!!                        | Neutral   |\n"
     ]
    }
   ],
   "source": [
    "# Cria uma nova coluna para classificar entre comentários positivos, negativos ou neutros com base na nota:\n",
    "dataset['feeling'] = np.where(dataset['overall_rating'] < 3, 'Negative', np.where(dataset['overall_rating'] == 3, 'Neutral', 'Positive'))\n",
    "\n",
    "# Mostra os primeiros registros do dataset\n",
    "print(\"Primeiros registros do dataset:\")\n",
    "print(tabulate(dataset.head(20), headers='keys', tablefmt='pipe'))\n"
   ]
  },
  {
   "cell_type": "code",
   "execution_count": 5,
   "id": "1d7feff9",
   "metadata": {},
   "outputs": [
    {
     "name": "stdout",
     "output_type": "stream",
     "text": [
      "\n",
      "Dataset após pré-processamento:\n",
      "|    |   overall_rating | review_text                                                                                                                                                                                        | feeling   |\n",
      "|---:|-----------------:|:---------------------------------------------------------------------------------------------------------------------------------------------------------------------------------------------------|:----------|\n",
      "|  0 |                4 | contente compra entrega rapida unico problema americana troca devolucao produto consumidor problemas espera                                                                                        | Positive  |\n",
      "|  1 |                4 | apenas reu consegui comprar lindo copo acrilico                                                                                                                                                    | Positive  |\n",
      "|  2 |                4 | supera agilidade praticidade outras panelas eletricas costumo usar outra panela cozimento arroz japonesa lev tempo minutos nessa panela rapido exatamente minutos recomendo                        | Positive  |\n",
      "|  3 |                4 | filho amou parece verdade tantos detalhes                                                                                                                                                          | Positive  |\n",
      "|  4 |                5 | entrega prazo americana estao parabens smart tv boa navegacao internete aplicativos excelente nao trava falar imagem surpreender recomendo                                                         | Positive  |\n",
      "|  5 |                5 | excelente produto material acrilico super resistente dentro adamantio faz milagre qualquer bebida sugiro aproveitarem promocao ante acabe                                                          | Positive  |\n",
      "|  6 |                5 | produto mto bom garrafinha vc pode ate servir agua pro megazord to pensando vender tv pra comprar garrafa dessa recomendo                                                                          | Positive  |\n",
      "|  7 |                4 | produto excelente qualidade boa camera desenvolvimento android rapidez                                                                                                                             | Positive  |\n",
      "|  8 |                5 | barulho minimo vento bem forte velocidade                                                                                                                                                          | Positive  |\n",
      "|  9 |                1 | produto nao entregue americana descontando fatura cartao                                                                                                                                           | Negative  |\n",
      "| 10 |                5 | comprei pra cara membro familia nesse natal                                                                                                                                                        | Positive  |\n",
      "| 11 |                5 | produto maravilhoso nao barulhento facil manuseio tranquilo montar desmontar entrega ante prazo tratando epoca natal americana parabens produto bom recomendo forca                                | Positive  |\n",
      "| 12 |                5 | jogo panelas excelente material entrega tempo design bom                                                                                                                                           | Positive  |\n",
      "| 13 |                1 | celular nao vale nada bateria nao vale nada descarrega sozinha usando esquenta tanto faz medo espludi pior compra vida condicoes quebrava mil pedacos comprava outro qualquer marca menos motorola | Negative  |\n",
      "| 14 |                5 | produto acordo esperava somente prazo entrega ficou pouco desejar pouco longo                                                                                                                      | Positive  |\n",
      "| 15 |                2 | mochila nao fechando direito nao recomendo filho nao deixado suja ia devolver                                                                                                                      | Negative  |\n",
      "| 16 |                4 | produto condizente anuncio material boa qualidade facil instalacao montagem preco acordo necessidade cada                                                                                          | Positive  |\n",
      "| 17 |                4 | nao nada reclamar bom atendimento entrega dentro combinado                                                                                                                                         | Positive  |\n",
      "| 18 |                4 | ate agora produtos comprei entregue certo obrigado continuum assim                                                                                                                                 | Positive  |\n",
      "| 19 |                3 | capa nao decepcionou enquanto bolsa guarda transporte extremamente fragil abertura conferencia ja rasgou toda volta junto fecho pessima impressao guardala noutra embalagem pena                   | Neutral   |\n"
     ]
    }
   ],
   "source": [
    "# Pré-processamento dos dados\n",
    "lemmatizer = WordNetLemmatizer()\n",
    "stop_words = set(stopwords.words('portuguese'))\n",
    "\n",
    "preprocessed_texts = []  # Lista para armazenar os textos pré-processados\n",
    "\n",
    "# Itera sobre cada texto no dataset para pré-processamento\n",
    "for text in dataset['review_text']:\n",
    "    # Converter para minúsculas\n",
    "    text = text.lower()\n",
    "    # Remover acentos\n",
    "    text = ''.join(char for char in unicodedata.normalize('NFKD', text) if unicodedata.category(char) != 'Mn')\n",
    "    # Remover números usando expressão regular\n",
    "    text = re.sub(r'\\d+', '', text)\n",
    "    # Remover caracteres especiais (incluindo emojis)\n",
    "    text = re.sub(r'[^\\w\\s]', '', text)\n",
    "    # Remover pontuação\n",
    "    text = text.translate(str.maketrans('', '', string.punctuation))\n",
    "    # Remover espaços extras\n",
    "    text = re.sub(r'\\s+', ' ', text).strip()\n",
    "    # Tokenização\n",
    "    tokens = word_tokenize(text)\n",
    "    # Lematização e remoção de stopwords\n",
    "    tokens = [lemmatizer.lemmatize(word) for word in tokens if word.isalpha() and word.lower() not in stop_words]\n",
    "    # Juntar tokens em texto novamente\n",
    "    preprocessed_text = ' '.join(tokens)\n",
    "    preprocessed_texts.append(preprocessed_text)  # Adicionar texto pré-processado à lista\n",
    "\n",
    "# Atualiza o DataFrame com os textos pré-processados\n",
    "dataset['review_text'] = preprocessed_texts\n",
    "\n",
    "# Mostra o dataset após o pré-processamento\n",
    "print(\"\\nDataset após pré-processamento:\")\n",
    "print(tabulate(dataset.head(20), headers='keys', tablefmt='pipe'))\n"
   ]
  },
  {
   "cell_type": "code",
   "execution_count": 6,
   "id": "a578a88a",
   "metadata": {},
   "outputs": [
    {
     "name": "stdout",
     "output_type": "stream",
     "text": [
      "Acurácia: 0.8240898528272657\n"
     ]
    }
   ],
   "source": [
    "# Separar os dados em features (X) e target (Y)\n",
    "X = dataset['review_text'].values\n",
    "Y = dataset['feeling'].values\n",
    "\n",
    "# Criar um objeto CountVectorizer com N-grams\n",
    "ngram_vectorizer = CountVectorizer(ngram_range=(1, 3))  # Considera unigramas, bigramas e trigramas\n",
    "\n",
    "# Vetorizar os dados de texto com N-grams\n",
    "X_ngrams = ngram_vectorizer.fit_transform(X)\n",
    "\n",
    "# Dividir os dados em conjunto de treinamento e teste\n",
    "X_train, X_test, Y_train, Y_test = train_test_split(X_ngrams, Y, test_size=0.3, random_state=42)\n",
    "\n",
    "# Criar e treinar o modelo Naive Bayes com os dados vetorizados com N-grams\n",
    "model_ngrams = MultinomialNB()\n",
    "model_ngrams.fit(X_train, Y_train)\n",
    "\n",
    "# Avaliar o modelo com N-grams\n",
    "accuracy_ngrams = model_ngrams.score(X_test, Y_test)\n",
    "print(\"Acurácia:\", accuracy_ngrams)\n"
   ]
  },
  {
   "cell_type": "code",
   "execution_count": 7,
   "id": "5565ee73",
   "metadata": {},
   "outputs": [
    {
     "name": "stdout",
     "output_type": "stream",
     "text": [
      "\n",
      "Resultados de 'feeling' após o treinamento do modelo:\n",
      "   Feeling_Predicted Feeling_True\n",
      "0           Positive     Positive\n",
      "1           Positive     Positive\n",
      "2           Positive      Neutral\n",
      "3           Negative     Negative\n",
      "4           Negative     Positive\n",
      "5           Positive     Positive\n",
      "6           Positive     Negative\n",
      "7           Positive      Neutral\n",
      "8           Positive     Positive\n",
      "9           Positive     Positive\n",
      "10          Positive     Positive\n",
      "11          Positive     Positive\n",
      "12          Positive     Positive\n",
      "13          Negative     Negative\n",
      "14          Positive     Positive\n",
      "15          Positive     Positive\n",
      "16          Positive     Positive\n",
      "17          Positive     Positive\n",
      "18          Positive      Neutral\n",
      "19          Positive     Positive\n"
     ]
    }
   ],
   "source": [
    "# Prever as classes para os dados de teste\n",
    "Y_pred = model_ngrams.predict(X_test)\n",
    "\n",
    "# Criar um DataFrame com as previsões e as verdadeiras classes de \"feeling\"\n",
    "df_results = pd.DataFrame({'Feeling_Predicted': Y_pred, 'Feeling_True': Y_test})\n",
    "\n",
    "# Mostrar os resultados\n",
    "print(\"\\nResultados de 'feeling' após o treinamento do modelo:\")\n",
    "print(df_results.head(20))  # Exibir os 20 primeiros registros\n"
   ]
  },
  {
   "cell_type": "code",
   "execution_count": 8,
   "id": "a2e305d1",
   "metadata": {},
   "outputs": [],
   "source": [
    "# Salvar o modelo e o vetorizador em um único arquivo, no mesmo diretório deste notebook\n",
    "dump((model_ngrams), 'modelo_e_vetorizador.joblib')\n",
    "\n",
    "# Carregar o modelo e o vetorizador do arquivo\n",
    "modelo_carregado = load('modelo_e_vetorizador.joblib')\n"
   ]
  }
 ],
 "metadata": {
  "kernelspec": {
   "display_name": "ML_PI",
   "language": "python",
   "name": "python3"
  },
  "language_info": {
   "codemirror_mode": {
    "name": "ipython",
    "version": 3
   },
   "file_extension": ".py",
   "mimetype": "text/x-python",
   "name": "python",
   "nbconvert_exporter": "python",
   "pygments_lexer": "ipython3",
   "version": "3.12.3"
  }
 },
 "nbformat": 4,
 "nbformat_minor": 5
}

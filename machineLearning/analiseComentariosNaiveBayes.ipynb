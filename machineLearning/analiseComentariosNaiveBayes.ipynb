{
 "cells": [
  {
   "cell_type": "markdown",
   "id": "d0dca056",
   "metadata": {},
   "source": [
    "## Análise de sentimentos com algoritmo Naive Bayes\n",
    "\n",
    "Este código demonstra a aplicação do algoritmo Naive Bayes em um projeto de análise de sentimentos. Foram utilizadas as bibliotecas pandas, numpy, tabulate, sklearn (CountVectorizer e MultinomialNB) e joblib para persistir o modelo treinado. O objetivo é classificar comentários de produtos como positivos ou negativos com base em sua pontuação geral e no texto do comentário, sendo comentários com nota maior ou igual a 3 considerados positivos, e abaixo disso negativos.\n",
    "\n",
    "O algoritmo Naive Bayes é um método de classificação probabilístico simples, baseado no teorema de Bayes, com uma suposição \"ingênua\" de independência entre os recursos. Ele é frequentemente utilizado em problemas de análise de sentimentos e classificação de textos. Na prática, o algoritmo calcula a probabilidade de um comentário ser positivo ou negativo com base nas palavras presentes nele, assumindo que a presença de cada palavra é independente das outras (daí o \"ingênuo\").\n",
    "\n",
    "O código carrega um conjunto de dados de avaliações de produtos, remove linhas com dados ausentes, cria uma nova coluna de classificação com base na pontuação geral e nos separa os comentários e suas classes. Em seguida, ele utiliza a classe CountVectorizer para converter os comentários em vetores de contagem de palavras. A vetorização de palavras é o processo de transformar textos em representações numéricas que possam ser usadas por algoritmos de aprendizado de máquina. No contexto do Naive Bayes para análise de sentimentos, a vetorização de palavras geralmente envolve a criação de um vocabulário com todas as palavras únicas nos textos e, em seguida, a contagem de quantas vezes cada palavra aparece em cada texto. Isso resulta em uma matriz em que cada linha representa um texto e cada coluna representa uma palavra do vocabulário, com os valores indicando a frequência de cada palavra no texto.\n",
    "\n",
    "Os termos frequentes são avaliados com base em sua presença e frequência nos textos. No contexto da análise de sentimentos, palavras que aparecem com frequência em comentários positivos podem ser consideradas como indicativas de sentimentos positivos, enquanto palavras que aparecem com frequência em comentários negativos podem ser consideradas como indicativas de sentimentos negativos. O Naive Bayes utiliza essas frequências para calcular a probabilidade de um texto pertencer a uma determinada classe (positiva ou negativa), levando em conta a frequência de cada palavra no texto e a frequência das palavras em cada classe.\n",
    "\n",
    "Em seguida, os vetores de contagem de palavras são usados para treinar um modelo Multinomial Naive Bayes. Esse modelo é então salvo em um arquivo para uso futuro.\n",
    "\n",
    "Para testar o modelo, são fornecidos alguns comentários de teste que são transformados em vetores de contagem de palavras e passados para o modelo carregado, que faz previsões sobre se os comentários são positivos ou negativos. O resultado das previsões é então exibido no console."
   ]
  },
  {
   "cell_type": "code",
   "execution_count": 3,
   "id": "d77555d2",
   "metadata": {},
   "outputs": [],
   "source": [
    "# Imports\n",
    "import nltk\n",
    "import re\n",
    "import pandas as pd\n",
    "import csv\n",
    "import numpy as np\n",
    "import matplotlib.pyplot as plt\n",
    "from joblib import dump, load\n",
    "from tabulate import tabulate\n",
    "from sklearn.feature_extraction.text import CountVectorizer\n",
    "from sklearn.naive_bayes import MultinomialNB\n",
    "from sklearn import metrics\n",
    "from sklearn.model_selection import cross_val_predict, train_test_split\n",
    "from IPython.display import display\n"
   ]
  },
  {
   "cell_type": "code",
   "execution_count": 4,
   "id": "51fe760b",
   "metadata": {},
   "outputs": [
    {
     "name": "stdout",
     "output_type": "stream",
     "text": [
      "132373\n",
      "129098\n",
      "   overall_rating                                        review_text     class\n",
      "0               4  Estou contente com a compra entrega rápida o ú...   Neutral\n",
      "1               4  Por apenas R$1994.20,eu consegui comprar esse ...   Neutral\n",
      "2               4  SUPERA EM AGILIDADE E PRATICIDADE OUTRAS PANEL...   Neutral\n",
      "3               4  MEU FILHO AMOU! PARECE DE VERDADE COM TANTOS D...   Neutral\n",
      "4               5  A entrega foi no prazo, as americanas estão de...  Positive\n",
      "5               5  Excelente produto, por fora em material acríli...  Positive\n",
      "6               5  produto mto bom, com essa garrafinha vc pode a...  Positive\n",
      "7               4  Produto excelente qualidade boa câmera desenvo...  Positive\n",
      "8               5  O barulho e minimo e o vento é bem forte na ve...   Neutral\n",
      "9               1  MEU PRODUTO NAO FOI ENTREGUE E A AMERICANAS ES...   Neutral\n"
     ]
    }
   ],
   "source": [
    "# Carregar o conjunto de dados\n",
    "dataset = pd.read_csv(\"C:\\\\fatec\\\\B2W-Reviews01\\\\B2W-Reviews01.csv\", usecols=['overall_rating', 'review_text'])\n",
    "\n",
    "# Filtrar o dataset para remover linhas com valores em branco\n",
    "dataset = dataset.dropna(subset=['overall_rating', 'review_text'])\n",
    "\n",
    "# Criar os arrays de features (X) e target (y)\n",
    "X = dataset['review_text'].values\n",
    "y = dataset['class'].values\n",
    "\n",
    "# Dividir os dados em conjunto de treinamento e teste\n",
    "X_train, X_test, y_train, y_test = train_test_split(X, y, test_size=0.2, random_state=42)\n",
    "\n",
    "# Criar um objeto CountVectorizer para analisar cada palavra individualmente\n",
    "vectorizer = CountVectorizer(analyzer=\"word\")\n",
    "\n",
    "# Ajustar o CountVectorizer nos dados de treinamento e transformar os dados de treinamento em uma matriz de contagem de palavras\n",
    "X_train_counts = vectorizer.fit_transform(X_train)\n",
    "\n",
    "# Criar o modelo Naive Bayes\n",
    "modelo = MultinomialNB()\n",
    "\n",
    "# Treinar o modelo usando a matriz de contagem de palavras e os rótulos de classe\n",
    "modelo.fit(X_train_counts, y_train)\n",
    "\n",
    "# Transformar os dados de teste usando o CountVectorizer treinado\n",
    "X_test_counts = vectorizer.transform(X_test)\n",
    "\n",
    "# Fazer previsões nos dados de teste\n",
    "y_pred = modelo.predict(X_test_counts)\n",
    "\n",
    "# Avaliar o desempenho do modelo\n",
    "accuracy = modelo.score(X_test_counts, y_test)\n",
    "print(\"Accuracy:\", accuracy)\n"
   ]
  },
  {
   "cell_type": "code",
   "execution_count": null,
   "id": "a2e305d1",
   "metadata": {},
   "outputs": [
    {
     "name": "stdout",
     "output_type": "stream",
     "text": [
      "['Positive' 'Positive' 'Positive' 'Negative' 'Negative' 'Negative']\n"
     ]
    }
   ],
   "source": [
    "# Salva o modelo e o vetorizador em um único arquivo, no mesmo diretório desse notebook\n",
    "dump((modelo, vectorizer), 'modelo_e_vetorizador.joblib')\n",
    "\n",
    "# Carrega o modelo e o vetorizador do arquivo\n",
    "modelo_carregado, vetorizador_carregado = load('modelo_e_vetorizador.joblib')\n",
    "\n",
    "# Usa o modelo e o vetorizador carregados para fazer previsões\n",
    "freq_testes = vetorizador_carregado.transform(testes)\n",
    "previsoes = modelo_carregado.predict(freq_testes)\n",
    "print(previsoes)"
   ]
  }
 ],
 "metadata": {
  "kernelspec": {
   "display_name": "ML_PI",
   "language": "python",
   "name": "python3"
  },
  "language_info": {
   "codemirror_mode": {
    "name": "ipython",
    "version": 3
   },
   "file_extension": ".py",
   "mimetype": "text/x-python",
   "name": "python",
   "nbconvert_exporter": "python",
   "pygments_lexer": "ipython3",
   "version": "3.10.11"
  }
 },
 "nbformat": 4,
 "nbformat_minor": 5
}
